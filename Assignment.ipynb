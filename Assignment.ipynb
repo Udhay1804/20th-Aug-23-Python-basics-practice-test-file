{
 "cells": [
  {
   "cell_type": "markdown",
   "id": "fa432058-8be9-45c3-81af-11a7f6e21981",
   "metadata": {},
   "source": [
    "1. Write a program to reverse a string."
   ]
  },
  {
   "cell_type": "code",
   "execution_count": 1,
   "id": "0abf0145-3459-4cc8-a61f-5687048b20d1",
   "metadata": {},
   "outputs": [
    {
     "data": {
      "text/plain": [
       "'olleh'"
      ]
     },
     "execution_count": 1,
     "metadata": {},
     "output_type": "execute_result"
    }
   ],
   "source": [
    "def reverse_srting(n):\n",
    "    x = n[::-1]\n",
    "    return x\n",
    "\n",
    "reverse_srting(\"hello\")"
   ]
  },
  {
   "cell_type": "markdown",
   "id": "ab299bf3-bb7d-4538-ab4c-d5275058840b",
   "metadata": {},
   "source": [
    "2. Check if a string is a palindrome."
   ]
  },
  {
   "cell_type": "code",
   "execution_count": 2,
   "id": "40464a21-8ac1-4b8c-966e-d42ff954a1ba",
   "metadata": {},
   "outputs": [
    {
     "data": {
      "text/plain": [
       "'Its palindrome'"
      ]
     },
     "execution_count": 2,
     "metadata": {},
     "output_type": "execute_result"
    }
   ],
   "source": [
    "def check_palindrome(n):\n",
    "    if n == n[::-1]:\n",
    "        return \"Its palindrome\"\n",
    "    else :\n",
    "        return \"its not a palindrome\"\n",
    "\n",
    "check_palindrome(\"malayalam\")"
   ]
  },
  {
   "cell_type": "markdown",
   "id": "dbc85518-a762-4108-92ec-bc181bba5cf9",
   "metadata": {},
   "source": [
    "3. Convert a string to uppercase."
   ]
  },
  {
   "cell_type": "code",
   "execution_count": 3,
   "id": "93de11ed-51d6-4f52-9853-df1363ea4a00",
   "metadata": {},
   "outputs": [
    {
     "data": {
      "text/plain": [
       "'HELLO'"
      ]
     },
     "execution_count": 3,
     "metadata": {},
     "output_type": "execute_result"
    }
   ],
   "source": [
    "string = \"hello\"\n",
    "string.upper()"
   ]
  },
  {
   "cell_type": "markdown",
   "id": "d9e8f8ee-81b6-4bfb-9c90-31f7fc168509",
   "metadata": {},
   "source": [
    "4. Convert a string to lowercase."
   ]
  },
  {
   "cell_type": "code",
   "execution_count": 4,
   "id": "56ee8473-151e-4835-85fa-9808edbf40e1",
   "metadata": {},
   "outputs": [
    {
     "data": {
      "text/plain": [
       "'hello'"
      ]
     },
     "execution_count": 4,
     "metadata": {},
     "output_type": "execute_result"
    }
   ],
   "source": [
    "string = \"HELLO\"\n",
    "string.lower()"
   ]
  },
  {
   "cell_type": "markdown",
   "id": "4efd9336-88d8-4535-848b-768aefbb7f94",
   "metadata": {},
   "source": [
    "5. Count the number of vowels in a string."
   ]
  },
  {
   "cell_type": "code",
   "execution_count": 5,
   "id": "021f52e3-fc0c-49f0-8a39-aba1b0be28ed",
   "metadata": {},
   "outputs": [
    {
     "name": "stdout",
     "output_type": "stream",
     "text": [
      "number of vowel : 4\n"
     ]
    }
   ],
   "source": [
    "def vowel_count(string):\n",
    "    count = 0\n",
    "    string = string.lower()\n",
    "    vowels = set(\"aeiou\")\n",
    "    for i in string :\n",
    "        if i in vowels:\n",
    "            count += 1\n",
    "    return count\n",
    "string = \"udayAa\"\n",
    "result = vowel_count(string)\n",
    "print(\"number of vowel :\",result)"
   ]
  },
  {
   "cell_type": "markdown",
   "id": "ea1a62b4-82ed-402e-960b-af7d9783abb8",
   "metadata": {},
   "source": [
    "6. Count the number of consonants in a string."
   ]
  },
  {
   "cell_type": "code",
   "execution_count": 6,
   "id": "d6e002d1-0678-4fa4-83d8-76ebe859b32b",
   "metadata": {},
   "outputs": [
    {
     "name": "stdout",
     "output_type": "stream",
     "text": [
      "number of consonants : 2\n"
     ]
    }
   ],
   "source": [
    "def consonants_count(string):\n",
    "    count = 0\n",
    "    string = string.lower()\n",
    "    consonants = set(\"bcdfghjklmpqrstvwxyz\")\n",
    "    for i in string :\n",
    "        if i in consonants:\n",
    "            count += 1\n",
    "    return count\n",
    "string = \"udaya\"\n",
    "result = consonants_count(string)\n",
    "print(\"number of consonants :\",result)"
   ]
  },
  {
   "cell_type": "markdown",
   "id": "754e7f66-8133-4dfd-ab90-f1b9ebfa9774",
   "metadata": {},
   "source": [
    "7. Remove all whitespaces from a string."
   ]
  },
  {
   "cell_type": "code",
   "execution_count": 7,
   "id": "9cc87a37-2a60-4e43-bdcb-0e48ea098752",
   "metadata": {},
   "outputs": [
    {
     "name": "stdout",
     "output_type": "stream",
     "text": [
      "hellohowareyou\n"
     ]
    }
   ],
   "source": [
    "def remove_whitespace(string):\n",
    "    x = \"\"\n",
    "    for i in string:\n",
    "        if i != \" \":\n",
    "            x += i\n",
    "    return x\n",
    "string = \"hello   how are    you\"\n",
    "output = remove_whitespace(string)\n",
    "print(output)"
   ]
  },
  {
   "cell_type": "markdown",
   "id": "55b6e291-41b1-43f2-abc8-e15fd04c9baa",
   "metadata": {},
   "source": [
    "8. Find the length of a string without using the `len()` function."
   ]
  },
  {
   "cell_type": "code",
   "execution_count": 8,
   "id": "2504dd16-0286-4e6f-a196-5d3de6ac2aa8",
   "metadata": {},
   "outputs": [
    {
     "name": "stdout",
     "output_type": "stream",
     "text": [
      "5\n"
     ]
    }
   ],
   "source": [
    "def finding_length(string):\n",
    "    count = 0\n",
    "    for i in string :\n",
    "        if i == i :\n",
    "            count += 1\n",
    "    return count\n",
    "string = \"udaya\"\n",
    "output = finding_length(string)\n",
    "print(output)"
   ]
  },
  {
   "cell_type": "markdown",
   "id": "a9e76f5f-f0c7-48c6-8442-5dfe23e3071a",
   "metadata": {},
   "source": [
    "9. Check if a string contains a specific word."
   ]
  },
  {
   "cell_type": "code",
   "execution_count": 56,
   "id": "52826365-f441-4351-b26f-28d43bb57fe2",
   "metadata": {},
   "outputs": [
    {
     "name": "stdout",
     "output_type": "stream",
     "text": [
      "It has specific word\n"
     ]
    }
   ],
   "source": [
    "def check_specific(str1, str2):\n",
    "    if str1 in str2:\n",
    "        return \"It has specific word\"\n",
    "    else:\n",
    "        return \"Not found\"\n",
    "    \n",
    "str1 = \"hello\"\n",
    "str2 = \"hello how are you\"\n",
    "output = check_specific(str1, str2)\n",
    "print(output)  "
   ]
  },
  {
   "cell_type": "markdown",
   "id": "47483f40-1f76-4927-9b34-e04bcac14645",
   "metadata": {},
   "source": [
    "10. Replace a word in a string with another word."
   ]
  },
  {
   "cell_type": "code",
   "execution_count": 59,
   "id": "2f467550-e263-4dbe-bfe4-6d156ce07728",
   "metadata": {},
   "outputs": [
    {
     "name": "stdout",
     "output_type": "stream",
     "text": [
      "hey how are you\n"
     ]
    }
   ],
   "source": [
    "def replace_word(string,old,new):\n",
    "    replaced_string = string.replace(old,new)\n",
    "    return replaced_string\n",
    "string = \"hello how are you\"\n",
    "old = \"hello\"\n",
    "new = \"hey\"\n",
    "output = replace_word(string,old,new)\n",
    "print(output)"
   ]
  },
  {
   "cell_type": "markdown",
   "id": "8ce1f5a7-41e2-4864-81cd-c3359ed4395f",
   "metadata": {},
   "source": [
    "11. Count the occurrences of a word in a string."
   ]
  },
  {
   "cell_type": "code",
   "execution_count": 11,
   "id": "5e2ec0c3-8c6f-494b-84e6-5312bdccc8e7",
   "metadata": {},
   "outputs": [
    {
     "name": "stdout",
     "output_type": "stream",
     "text": [
      "the word hello appered 1 Times\n"
     ]
    }
   ],
   "source": [
    "def count_occurrences(string1,string2):\n",
    "    count = 0\n",
    "    string = string1.split()\n",
    "    for i in string:\n",
    "        if i == string2:\n",
    "            count += 1\n",
    "    return count\n",
    "string1 = \"hello there how are you\"\n",
    "string2 = \"hello\"\n",
    "output = count_occurrences(string1,string2)\n",
    "print(\"the word\",string2,\"appered\", output ,\"Times\")"
   ]
  },
  {
   "cell_type": "markdown",
   "id": "4f5a39a7-a919-43c7-a194-6def5e0aba7f",
   "metadata": {},
   "source": [
    "12. Find the first occurrence of a word in a string."
   ]
  },
  {
   "cell_type": "code",
   "execution_count": 12,
   "id": "cdf46e36-f93b-4cec-a060-6690f20e5676",
   "metadata": {},
   "outputs": [
    {
     "name": "stdout",
     "output_type": "stream",
     "text": [
      "18\n"
     ]
    }
   ],
   "source": [
    "def first_occurance(string1,string2):\n",
    "    string = string1.find(string2)\n",
    "    if string == -1 :\n",
    "        return None \n",
    "    return string\n",
    "string1 = \"Hi how are you, I hope you have a great day\"\n",
    "string2 = \"hope\"\n",
    "output = first_occurance(string1,string2)\n",
    "print(output)"
   ]
  },
  {
   "cell_type": "markdown",
   "id": "2008e17d-75a3-469c-a397-ed9548529729",
   "metadata": {},
   "source": [
    "13. Find the last occurrence of a word in a string."
   ]
  },
  {
   "cell_type": "code",
   "execution_count": 13,
   "id": "89a3975a-4cb9-4980-84ff-7853dd65acf8",
   "metadata": {},
   "outputs": [
    {
     "name": "stdout",
     "output_type": "stream",
     "text": [
      "27\n"
     ]
    }
   ],
   "source": [
    "def last_occurance(string1,string2):\n",
    "    string = string1.rfind(string2)\n",
    "    if string == -1 :\n",
    "        return None \n",
    "    return string\n",
    "string1 = \"Hi how are you, I hope you have a great day\"\n",
    "string2 = \"have\"\n",
    "output = first_occurance(string1,string2)\n",
    "print(output)"
   ]
  },
  {
   "cell_type": "markdown",
   "id": "a2c4c756-1d25-4920-9734-3534bc58d614",
   "metadata": {},
   "source": [
    "14. Split a string into a list of words."
   ]
  },
  {
   "cell_type": "code",
   "execution_count": 14,
   "id": "e42b6e30-93f5-492b-890a-cb52e78f933b",
   "metadata": {},
   "outputs": [
    {
     "name": "stdout",
     "output_type": "stream",
     "text": [
      "['hello', 'how', 'are', 'you']\n"
     ]
    }
   ],
   "source": [
    "def split_string(string):\n",
    "    split = string.split()\n",
    "    if split == -1:\n",
    "        return None\n",
    "    return split\n",
    "string = \"hello how are you\"\n",
    "output = split_string(string)\n",
    "print(output)"
   ]
  },
  {
   "cell_type": "markdown",
   "id": "7b9b2846-44b8-4712-97a9-5eceb5557706",
   "metadata": {},
   "source": [
    "15. Join a list of words into a string."
   ]
  },
  {
   "cell_type": "code",
   "execution_count": 15,
   "id": "971ff387-282e-441d-876f-5cc1f71da3b9",
   "metadata": {},
   "outputs": [
    {
     "name": "stdout",
     "output_type": "stream",
     "text": [
      "hello how are you\n"
     ]
    }
   ],
   "source": [
    "def join_string(string):\n",
    "    l = \" \".join(string)\n",
    "    return l\n",
    "string = [\"hello\",\"how\",\"are\",\"you\"]\n",
    "output = join_string(string)\n",
    "print(output)"
   ]
  },
  {
   "cell_type": "markdown",
   "id": "931cac71-33d4-4e09-a1c0-f62475afbdad",
   "metadata": {},
   "source": [
    "16. Convert a string where words are separated by spaces to one where words\n",
    "are separated by underscores."
   ]
  },
  {
   "cell_type": "code",
   "execution_count": 16,
   "id": "d282bc31-6b93-4c3b-a2b2-e8c665800015",
   "metadata": {},
   "outputs": [
    {
     "name": "stdout",
     "output_type": "stream",
     "text": [
      "hello how are you\n"
     ]
    }
   ],
   "source": [
    "def replace_words(string):\n",
    "    l = string.replace(\"_\",\" \",-1)\n",
    "    return l\n",
    "string = \"hello_how_are_you\"\n",
    "output = replace_words(string)\n",
    "print(output)"
   ]
  },
  {
   "cell_type": "markdown",
   "id": "0b78c52f-28e3-466a-8d5e-334232464036",
   "metadata": {},
   "source": [
    "17. Check if a string starts with a specific word or phrase."
   ]
  },
  {
   "cell_type": "code",
   "execution_count": 17,
   "id": "63a07b02-34a3-4a39-8e8e-ede65ce90195",
   "metadata": {},
   "outputs": [
    {
     "name": "stdout",
     "output_type": "stream",
     "text": [
      "True\n"
     ]
    }
   ],
   "source": [
    "def starts_with(text,prefix):\n",
    "    string = text.startswith(prefix)\n",
    "    return string\n",
    "text = \"hello, how, are, you\"\n",
    "prefix = \"hello\"\n",
    "output = starts_with(text,prefix)\n",
    "print(output)"
   ]
  },
  {
   "cell_type": "markdown",
   "id": "6ff9036e-dfc1-4893-abc0-35f3e9da4200",
   "metadata": {},
   "source": [
    "18. Check if a string ends with a specific word or phrase."
   ]
  },
  {
   "cell_type": "code",
   "execution_count": 18,
   "id": "455ddb06-c2d4-43a6-ae0b-e0262a77764f",
   "metadata": {},
   "outputs": [
    {
     "name": "stdout",
     "output_type": "stream",
     "text": [
      "True\n"
     ]
    }
   ],
   "source": [
    "def ends_with(text,suffix):\n",
    "    string = text.endswith(suffix)\n",
    "    return string\n",
    "text = \"hello, how, are, you\"\n",
    "suffix = \"you\"\n",
    "output = ends_with(text,suffix)\n",
    "print(output)"
   ]
  },
  {
   "cell_type": "markdown",
   "id": "3489cfd0-faa9-437e-be94-2ac8d891eeed",
   "metadata": {},
   "source": [
    "19. Convert a string to title case (e.g., \"hello world\" to \"Hello World\")."
   ]
  },
  {
   "cell_type": "code",
   "execution_count": 19,
   "id": "66f93870-e5c6-4c0a-bdd2-fa4392617040",
   "metadata": {},
   "outputs": [
    {
     "name": "stdout",
     "output_type": "stream",
     "text": [
      "Hello World\n"
     ]
    }
   ],
   "source": [
    "def title_case(string):\n",
    "    x = string.title()\n",
    "    return x\n",
    "string = \"hello world\"\n",
    "output = title_case(string)\n",
    "print(output)"
   ]
  },
  {
   "cell_type": "markdown",
   "id": "0130fd26-e51e-4204-8ecd-721be376355d",
   "metadata": {},
   "source": [
    "20. Find the longest word in a string."
   ]
  },
  {
   "cell_type": "code",
   "execution_count": 20,
   "id": "61665259-5093-4232-b94c-4d1acef62a38",
   "metadata": {},
   "outputs": [
    {
     "name": "stdout",
     "output_type": "stream",
     "text": [
      "Longest word is : senctence\n"
     ]
    }
   ],
   "source": [
    "def find_longword(string):\n",
    "    i = string.split()\n",
    "    long_word = \"\"\n",
    "    count = 0\n",
    "    for x in i:\n",
    "        if len(x) > count:\n",
    "            count = len(x)\n",
    "            long_word = x\n",
    "    return long_word\n",
    "string = \"this is longest word in any senctence\"\n",
    "output = find_longword(string)\n",
    "print(\"Longest word is :\",output)"
   ]
  },
  {
   "cell_type": "markdown",
   "id": "b9d6c0cd-f72f-40fe-8aa2-8bb9a033e9dd",
   "metadata": {},
   "source": [
    "21. Find the shortest word in a string."
   ]
  },
  {
   "cell_type": "code",
   "execution_count": 21,
   "id": "9be55f0a-5676-4425-a118-76d4c37905f7",
   "metadata": {},
   "outputs": [
    {
     "name": "stdout",
     "output_type": "stream",
     "text": [
      "Shortest word is: is\n"
     ]
    }
   ],
   "source": [
    "def find_shortword(string):\n",
    "    i = string.split()\n",
    "    short_word = \"\"\n",
    "    count = float(\"inf\")\n",
    "    for x in i:\n",
    "        if len(x) < count:\n",
    "            count = len(x)\n",
    "            short_word = x\n",
    "    return short_word\n",
    "string = \"this is shortest word in any senctence\"\n",
    "output = find_shortword(string)\n",
    "print(\"Shortest word is:\",output)"
   ]
  },
  {
   "cell_type": "markdown",
   "id": "3ab9e380-d498-43ab-9fb5-1605d0bb79d8",
   "metadata": {},
   "source": [
    "22. Reverse the order of words in a string."
   ]
  },
  {
   "cell_type": "code",
   "execution_count": 22,
   "id": "e9c72dd5-84a6-43ec-9c23-2d87bf529b6e",
   "metadata": {},
   "outputs": [
    {
     "name": "stdout",
     "output_type": "stream",
     "text": [
      "olleh ih\n"
     ]
    }
   ],
   "source": [
    "def reverse_words(string):\n",
    "    x = string[::-1]\n",
    "    a = []\n",
    "    for i in x :\n",
    "        a.append(i)\n",
    "    return a\n",
    "string = \"hi hello\"\n",
    "output = reverse_words(string)\n",
    "print(\"\".join(output))"
   ]
  },
  {
   "cell_type": "markdown",
   "id": "4f1308ac-dd0a-413e-8623-af9391b8d905",
   "metadata": {},
   "source": [
    "23. Check if a string is alphanumeric."
   ]
  },
  {
   "cell_type": "code",
   "execution_count": 23,
   "id": "55948e46-b1a7-4691-bb7f-577fe648dd96",
   "metadata": {},
   "outputs": [
    {
     "name": "stdout",
     "output_type": "stream",
     "text": [
      "Its not a alphanumeric\n"
     ]
    }
   ],
   "source": [
    "def Check_alphanumeric(string):\n",
    "    str(string)\n",
    "    if string.isalnum():\n",
    "        return \"Its alphanumeric\"\n",
    "    else :\n",
    "        return \"Its not a alphanumeric\"\n",
    "string = \"udaya123@#$%^\"\n",
    "output = Check_alphanumeric(string)\n",
    "print (output)"
   ]
  },
  {
   "cell_type": "markdown",
   "id": "ff090ae1-ac74-45fb-967f-bd2f2f5932c3",
   "metadata": {},
   "source": [
    "24. Extract all digits from a string."
   ]
  },
  {
   "cell_type": "code",
   "execution_count": 24,
   "id": "5423fa18-5e6e-4050-81ba-e02311eadc23",
   "metadata": {},
   "outputs": [
    {
     "name": "stdout",
     "output_type": "stream",
     "text": [
      "Original string : hello123\n",
      "Extracted numbers in the string : ['1', '2', '3']\n"
     ]
    }
   ],
   "source": [
    "def is_digit(string):\n",
    "    digit = []\n",
    "    for i in string:\n",
    "        if i.isdigit():\n",
    "            digit += i\n",
    "    return digit\n",
    "string = \"hello123\"\n",
    "output = is_digit(string)\n",
    "print(\"Original string :\",string)\n",
    "print(\"Extracted numbers in the string :\",output)"
   ]
  },
  {
   "cell_type": "markdown",
   "id": "16fe5b70-ac21-43db-8758-58db6824023b",
   "metadata": {},
   "source": [
    "25. Extract all alphabets from a string."
   ]
  },
  {
   "cell_type": "code",
   "execution_count": 25,
   "id": "343c0717-5b3d-4392-b60e-e2cf648ea6ad",
   "metadata": {},
   "outputs": [
    {
     "name": "stdout",
     "output_type": "stream",
     "text": [
      "Original string : hello123\n",
      "Extracted alphabets in the string : hello\n"
     ]
    }
   ],
   "source": [
    "def is_digi(string):\n",
    "    alpha = []\n",
    "    for i in string:\n",
    "        if i.isalpha():\n",
    "            alpha += i\n",
    "    return alpha\n",
    "string = \"hello123\"\n",
    "output = is_digi(string)\n",
    "print(\"Original string :\",string)\n",
    "print(\"Extracted alphabets in the string :\",\"\".join(output))"
   ]
  },
  {
   "cell_type": "markdown",
   "id": "f26f639e-9a75-4054-b839-7396e96b62d9",
   "metadata": {},
   "source": [
    "26. Count the number of uppercase letters in a string."
   ]
  },
  {
   "cell_type": "code",
   "execution_count": 26,
   "id": "a4d92fd4-eda4-412b-b597-9c7132caa800",
   "metadata": {},
   "outputs": [
    {
     "name": "stdout",
     "output_type": "stream",
     "text": [
      "Number of uppercase is :  4\n"
     ]
    }
   ],
   "source": [
    "def count_uppercase(string):\n",
    "    count = 0\n",
    "    for i in string:\n",
    "        if i.isupper():\n",
    "            count += 1\n",
    "    return count\n",
    "string = \"Hi HoW Are you\"\n",
    "output = count_uppercase(string)\n",
    "print(\"Number of uppercase is : \",output)"
   ]
  },
  {
   "cell_type": "markdown",
   "id": "1b62eec4-9fd2-490d-9529-7a6f112f2927",
   "metadata": {},
   "source": [
    "27. Count the number of lowercase letters in a string."
   ]
  },
  {
   "cell_type": "code",
   "execution_count": 27,
   "id": "52aa091e-6120-4fc4-a247-2faf2928aaae",
   "metadata": {},
   "outputs": [
    {
     "name": "stdout",
     "output_type": "stream",
     "text": [
      "Number of uppercase is :  7\n"
     ]
    }
   ],
   "source": [
    "def count_lowercase(string):\n",
    "    count = 0\n",
    "    for i in string:\n",
    "        if i.islower():\n",
    "            count += 1\n",
    "    return count\n",
    "string = \"Hi HoW Are you\"\n",
    "output = count_lowercase(string)\n",
    "print(\"Number of uppercase is : \",output)"
   ]
  },
  {
   "cell_type": "markdown",
   "id": "e4f89356-e337-4add-b86d-723b694f97d6",
   "metadata": {},
   "source": [
    "28. Swap the case of each character in a string."
   ]
  },
  {
   "cell_type": "code",
   "execution_count": 28,
   "id": "fbd16d6a-a535-483f-937e-de46dc7e1a92",
   "metadata": {},
   "outputs": [
    {
     "name": "stdout",
     "output_type": "stream",
     "text": [
      "hI hELLO\n"
     ]
    }
   ],
   "source": [
    "def swap_character(string):\n",
    "    input_string = string.swapcase()\n",
    "    return input_string\n",
    "string = \"Hi Hello\"\n",
    "output = swap_character(string)\n",
    "print(output)"
   ]
  },
  {
   "cell_type": "markdown",
   "id": "cdc01b84-c6ac-4d94-82e5-2111dccf34c1",
   "metadata": {},
   "source": [
    "29.Remove a specific word from a string."
   ]
  },
  {
   "cell_type": "code",
   "execution_count": 29,
   "id": "14651494-c262-400c-8a66-a92f52fdaf42",
   "metadata": {},
   "outputs": [
    {
     "name": "stdout",
     "output_type": "stream",
     "text": [
      "Hi how are \n"
     ]
    }
   ],
   "source": [
    "def remove_word(string,remove):\n",
    "    word = string.replace(remove,\"\")\n",
    "    return word\n",
    "string = \"Hi how are you\"\n",
    "remove = \"you\"\n",
    "output = remove_word(string,remove)\n",
    "print(output)"
   ]
  },
  {
   "cell_type": "markdown",
   "id": "49c970b1-0d21-425d-a175-9408b4b5cab6",
   "metadata": {},
   "source": [
    "30. Check if a string is a valid email address"
   ]
  },
  {
   "cell_type": "code",
   "execution_count": 30,
   "id": "5d6a7336-adae-4319-95d1-f81029ec8e25",
   "metadata": {},
   "outputs": [
    {
     "name": "stdout",
     "output_type": "stream",
     "text": [
      "udayachandaran@gmail.com is a valid email address. \n",
      " udayaemail is not a valid email address.\n"
     ]
    }
   ],
   "source": [
    "import re\n",
    "\n",
    "def is_valid_email(email):\n",
    "    pattern = r'^\\S+@\\S+\\.\\S+$'\n",
    "    if re.match(pattern, email):\n",
    "        return (f\"{email} is a valid email address.\")\n",
    "    else:\n",
    "        return (f\"{email} is not a valid email address.\")\n",
    "\n",
    "email = \"udayachandaran@gmail.com\"\n",
    "email1 = \"udayaemail\"\n",
    "output = is_valid_email(email)\n",
    "output_1 = is_valid_email(email1)\n",
    "print(output,\"\\n\",output_1)"
   ]
  },
  {
   "cell_type": "markdown",
   "id": "3e4ae067-df8a-4bd7-bb51-667589418dae",
   "metadata": {},
   "source": [
    "31. Extract the username from an email address string."
   ]
  },
  {
   "cell_type": "code",
   "execution_count": 31,
   "id": "b83e05e7-3c60-4751-a072-a2aceff316d1",
   "metadata": {},
   "outputs": [
    {
     "name": "stdout",
     "output_type": "stream",
     "text": [
      "udayachandaran\n"
     ]
    }
   ],
   "source": [
    "def extract_name(email):\n",
    "    name = []\n",
    "    for i in email:\n",
    "        if i != \"@\":\n",
    "            name.append(i)          \n",
    "        else :\n",
    "            break\n",
    "    return name\n",
    "email = \"udayachandaran@gmail.com\"\n",
    "output = extract_name(email)\n",
    "print (\"\".join(output))"
   ]
  },
  {
   "cell_type": "markdown",
   "id": "aff9e91c-c76d-476f-afa6-7cb6b59bb7b2",
   "metadata": {},
   "source": [
    "32. Extract the domain name from an email address string."
   ]
  },
  {
   "cell_type": "code",
   "execution_count": 32,
   "id": "be7f5a7d-70e2-4a28-a906-5a6962821441",
   "metadata": {},
   "outputs": [
    {
     "name": "stdout",
     "output_type": "stream",
     "text": [
      "gmail.com\n"
     ]
    }
   ],
   "source": [
    "def extract_domain(email):\n",
    "    extract = email.split('@')[1]\n",
    "    return extract\n",
    "email = \"udayachandaran@gmail.com\"\n",
    "output = extract_domain(email)\n",
    "print(output)"
   ]
  },
  {
   "cell_type": "markdown",
   "id": "42dbf74e-8c44-42ed-922a-141c1d282d71",
   "metadata": {},
   "source": [
    "33. Replace multiple spaces in a string with a single space."
   ]
  },
  {
   "cell_type": "code",
   "execution_count": 33,
   "id": "9755a4cb-9cda-4a57-bf59-29d7bae1ac7c",
   "metadata": {},
   "outputs": [
    {
     "name": "stdout",
     "output_type": "stream",
     "text": [
      "hello how are you\n"
     ]
    }
   ],
   "source": [
    "def replace_space(string):\n",
    "    replace = \" \".join(string.split())\n",
    "    return replace\n",
    "string = \"hello      how      are       you\"\n",
    "output = replace_space(string)\n",
    "print(output)"
   ]
  },
  {
   "cell_type": "markdown",
   "id": "5c0e3b0a-dcd6-44f7-ac5c-16d30f9b820b",
   "metadata": {},
   "source": [
    "34. Check if a string is a valid URL."
   ]
  },
  {
   "cell_type": "code",
   "execution_count": 34,
   "id": "e4efa4dc-ea96-4460-92ab-022cb737d43b",
   "metadata": {},
   "outputs": [
    {
     "name": "stdout",
     "output_type": "stream",
     "text": [
      "True \n",
      " False\n"
     ]
    }
   ],
   "source": [
    "from urllib.parse import urlparse\n",
    "\n",
    "def check_URL(url):\n",
    "    try:\n",
    "        result = urlparse(url)\n",
    "        return all([result.scheme,result.netloc])\n",
    "    except:\n",
    "        return False\n",
    "url1 = \"https://white-painter-tgpgl.pwskills.app/lab/tree/work/Assignment.ipynb\"\n",
    "url2 = \"This is not url\"\n",
    "output = check_URL(url1)\n",
    "output1 = check_URL(url2)\n",
    "print(output,\"\\n\",output1)"
   ]
  },
  {
   "cell_type": "markdown",
   "id": "640a5a67-68f8-458f-abc2-edc82d030289",
   "metadata": {},
   "source": [
    "35. Extract the protocol (http or https) from a URL string."
   ]
  },
  {
   "cell_type": "code",
   "execution_count": 35,
   "id": "598c0eea-c10e-4db8-bf44-6bffcc1e93b7",
   "metadata": {},
   "outputs": [
    {
     "name": "stdout",
     "output_type": "stream",
     "text": [
      "https\n",
      "None\n"
     ]
    }
   ],
   "source": [
    "from urllib.parse import urlparse\n",
    "\n",
    "def extract_protocol(url):\n",
    "    parsed_url = urlparse(url)\n",
    "    if parsed_url.scheme in ('http', 'https'):\n",
    "        return parsed_url.scheme\n",
    "    else:\n",
    "        return None \n",
    "\n",
    "url1 = \"https://white-painter-tgpgl.pwskills.app/lab/tree/work/Assignment.ipynb\"\n",
    "url2 = \"invalid url\"\n",
    "\n",
    "protocol1 = extract_protocol(url1) \n",
    "protocol2 = extract_protocol(url2) \n",
    "print(protocol1)\n",
    "print(protocol2)\n"
   ]
  },
  {
   "cell_type": "markdown",
   "id": "1c1814c2-f88e-4031-92cf-b8dc2091c1a2",
   "metadata": {},
   "source": [
    "36. Find the frequency of each character in a string."
   ]
  },
  {
   "cell_type": "code",
   "execution_count": 36,
   "id": "eaee5916-7ad0-4e1b-a554-585c4347cec0",
   "metadata": {},
   "outputs": [
    {
     "name": "stdout",
     "output_type": "stream",
     "text": [
      "chareacter - H : frequency - 1\n",
      "chareacter - i : frequency - 1\n",
      "chareacter -   : frequency - 3\n",
      "chareacter - h : frequency - 1\n",
      "chareacter - o : frequency - 2\n",
      "chareacter - w : frequency - 1\n",
      "chareacter - a : frequency - 1\n",
      "chareacter - r : frequency - 1\n",
      "chareacter - e : frequency - 1\n",
      "chareacter - y : frequency - 1\n",
      "chareacter - u : frequency - 1\n"
     ]
    }
   ],
   "source": [
    "def character_frequency(string):\n",
    "    frequency_dict = {} \n",
    "    for char in string:\n",
    "        if char in frequency_dict:\n",
    "            frequency_dict[char] += 1\n",
    "        else:\n",
    "            frequency_dict[char] = 1   \n",
    "    return frequency_dict\n",
    "\n",
    "input_string = \"Hi how are you\"\n",
    "result = character_frequency(input_string)\n",
    "\n",
    "for char, count in result.items():\n",
    "    print(f\"chareacter - {char} : frequency - {count}\")"
   ]
  },
  {
   "cell_type": "markdown",
   "id": "67ac4fce-35dc-42f9-a3de-0eba57dd0c89",
   "metadata": {},
   "source": [
    "37. Remove all punctuation from a string."
   ]
  },
  {
   "cell_type": "code",
   "execution_count": 37,
   "id": "bd19b32b-b61f-4655-8f70-6f75a94af2d1",
   "metadata": {},
   "outputs": [
    {
     "name": "stdout",
     "output_type": "stream",
     "text": [
      "Hello how are you\n"
     ]
    }
   ],
   "source": [
    "import string\n",
    "\n",
    "def remove_punctuation(input_string):\n",
    "    string_1 = str.maketrans(\"\",\"\",string.punctuation)\n",
    "    removed = input_string.translate(string_1)\n",
    "    return removed \n",
    "input_string = \"Hello, how, are you\"\n",
    "output = remove_punctuation(input_string)\n",
    "print(output)"
   ]
  },
  {
   "cell_type": "markdown",
   "id": "fd008217-805f-439b-a2c9-284056de62a4",
   "metadata": {},
   "source": [
    "38. Check if a string contains only digits."
   ]
  },
  {
   "cell_type": "code",
   "execution_count": 38,
   "id": "5a54a3d1-89ac-4189-8285-3fae24c7bd21",
   "metadata": {},
   "outputs": [
    {
     "name": "stdout",
     "output_type": "stream",
     "text": [
      "It contains only digits\n",
      "It's not only digits\n"
     ]
    }
   ],
   "source": [
    "def check_digits_only(string):\n",
    "    for i in string:\n",
    "        if not i.isdigit():\n",
    "            return \"It's not only digits\"\n",
    "    return \"It contains only digits\"\n",
    "\n",
    "string = \"123456\"\n",
    "string1 = \"124hk536k\"\n",
    "\n",
    "output = check_digits_only(string)\n",
    "output1 = check_digits_only(string1)\n",
    "\n",
    "print(output)  \n",
    "print(output1)"
   ]
  },
  {
   "cell_type": "markdown",
   "id": "b33eed75-818e-4656-a98e-5d8c9df3fe62",
   "metadata": {},
   "source": [
    "39. Check if a string contains only alphabets."
   ]
  },
  {
   "cell_type": "code",
   "execution_count": 39,
   "id": "6d718c50-a843-4792-a3fd-bac3b4ac1ced",
   "metadata": {},
   "outputs": [
    {
     "name": "stdout",
     "output_type": "stream",
     "text": [
      "It contains only alphabets\n",
      "It's not only alphabets\n"
     ]
    }
   ],
   "source": [
    "def check_alphabets_only(string):\n",
    "    for i in string:\n",
    "        if not i.isalpha():\n",
    "            return \"It's not only alphabets\"\n",
    "    return \"It contains only alphabets\"\n",
    "\n",
    "string = \"hello\"\n",
    "string1 = \"124hk536k\"\n",
    "\n",
    "output = check_alphabets_only(string)\n",
    "output1 = check_alphabets_only(string1)\n",
    "\n",
    "print(output) \n",
    "print(output1)\n"
   ]
  },
  {
   "cell_type": "markdown",
   "id": "cfe5e2db-2000-452a-883c-5fdc24c194f2",
   "metadata": {},
   "source": [
    "40. Convert a string to a list of characters."
   ]
  },
  {
   "cell_type": "code",
   "execution_count": 40,
   "id": "b0241f1e-8720-4abb-8c69-c880d39f91a1",
   "metadata": {},
   "outputs": [
    {
     "name": "stdout",
     "output_type": "stream",
     "text": [
      "['h', 'e', 'l', 'l', 'o', ' ', 'h', 'o', 'w', ' ', 'a', 'r', 'e', ' ', 'y', 'o', 'u']\n"
     ]
    }
   ],
   "source": [
    "def convert_string(string):\n",
    "    converted_string = list(string)\n",
    "    return converted_string\n",
    "string = \"hello how are you\"\n",
    "output = convert_string(string)\n",
    "print(output)"
   ]
  },
  {
   "cell_type": "markdown",
   "id": "31fdbed3-bb8c-442c-b22c-6134e11cfece",
   "metadata": {},
   "source": [
    "41. Check if two strings are anagrams."
   ]
  },
  {
   "cell_type": "code",
   "execution_count": 41,
   "id": "3b125c7b-ded7-4193-bf20-815079a8a480",
   "metadata": {},
   "outputs": [
    {
     "name": "stdout",
     "output_type": "stream",
     "text": [
      "It is anagram\n",
      "It is not anagram\n"
     ]
    }
   ],
   "source": [
    "def check_anagrams(str1,str2):\n",
    "    string1 = str1.replace(\" \",\"\").lower()\n",
    "    string2 = str2.replace(\" \",\"\").lower()\n",
    "    if len(string1) != len(string2):\n",
    "        return \"It is not anagram\"\n",
    "    for i in string1:\n",
    "        if i in string2:\n",
    "            return \"It is anagram\"\n",
    "    return \"It is not anagram\"\n",
    "str1 = \"heart\"\n",
    "str2 = \"earth\"\n",
    "str3 = \"hello\"\n",
    "str4 = \"hey\"\n",
    "output = check_anagrams(str1,str2)\n",
    "output1 = check_anagrams(str3,str4)\n",
    "print(output)\n",
    "print(output1)"
   ]
  },
  {
   "cell_type": "markdown",
   "id": "44203810-e278-4955-830f-c195cfba6cd0",
   "metadata": {},
   "source": [
    "42. Encode a string using a Caesar cipher."
   ]
  },
  {
   "cell_type": "code",
   "execution_count": 62,
   "id": "a355c19d-8367-45fe-95b5-970a544d41cf",
   "metadata": {},
   "outputs": [
    {
     "name": "stdout",
     "output_type": "stream",
     "text": [
      "Original:   hello how are you\n",
      "Encrypted:  lipps lsa evi csy\n"
     ]
    }
   ],
   "source": [
    "def caesar_cipher(text, shift):\n",
    "    encrypted_text = \"\"\n",
    "    \n",
    "    for char in text:\n",
    "        if char.isalpha():\n",
    "            is_upper = char.isupper()\n",
    "            char = char.lower()\n",
    "            char_code = ord(char) - ord('a')\n",
    "            shifted_code = (char_code + shift) % 26\n",
    "            encrypted_char = chr(shifted_code + ord('a'))\n",
    "            if is_upper:\n",
    "                encrypted_char = encrypted_char.upper()\n",
    "            encrypted_text += encrypted_char\n",
    "        else:\n",
    "            encrypted_text += char\n",
    "\n",
    "    return encrypted_text\n",
    "\n",
    "plaintext = \"hello how are you\"\n",
    "shift = 4\n",
    "cipher_text = caesar_cipher(plaintext, shift)\n",
    "print(\"Original:   \" + plaintext)\n",
    "print(\"Encrypted:  \" + cipher_text)\n"
   ]
  },
  {
   "cell_type": "markdown",
   "id": "ad6b8c32-a1ed-48c9-a71c-3f1f44e59d7f",
   "metadata": {},
   "source": [
    "43. Decode a Caesar cipher encoded string."
   ]
  },
  {
   "cell_type": "code",
   "execution_count": 2,
   "id": "3edea5b8-60ac-4fb3-bb63-2a6e44cfb27d",
   "metadata": {},
   "outputs": [
    {
     "name": "stdout",
     "output_type": "stream",
     "text": [
      "Encrypted:  lipps lsa evi csy\n",
      "Decrypted:  hello how are you\n"
     ]
    }
   ],
   "source": [
    "def caesar_decipher(ciphertext, shift):\n",
    "    decrypted_text = \"\"\n",
    "\n",
    "    for char in ciphertext:\n",
    "        if char.isalpha():\n",
    "            is_upper = char.isupper()\n",
    "            char = char.lower()\n",
    "            char_code = ord(char) - ord('a')\n",
    "            shifted_code = (char_code - shift) % 26\n",
    "            decrypted_char = chr(shifted_code + ord('a'))\n",
    "            if is_upper:\n",
    "                decrypted_char = decrypted_char.upper()\n",
    "            decrypted_text += decrypted_char\n",
    "        else:\n",
    "            decrypted_text += char\n",
    "\n",
    "    return decrypted_text\n",
    "\n",
    "cipher_text = \"lipps lsa evi csy\"\n",
    "shift = 4\n",
    "decrypted_text = caesar_decipher(cipher_text, shift)\n",
    "print(\"Encrypted:  \" + cipher_text)\n",
    "print(\"Decrypted:  \" + decrypted_text)\n"
   ]
  },
  {
   "cell_type": "markdown",
   "id": "29d34184-db05-4edc-8c87-bca871c5125a",
   "metadata": {},
   "source": [
    "44. Find the most frequent word in a string."
   ]
  },
  {
   "cell_type": "code",
   "execution_count": 7,
   "id": "5ab93e28-7da9-4152-94fd-7f8fdbd5180e",
   "metadata": {},
   "outputs": [
    {
     "name": "stdout",
     "output_type": "stream",
     "text": [
      "The most frequent word is 'sample' with a frequency of 4 times.\n"
     ]
    }
   ],
   "source": [
    "import re\n",
    "def most_frequent_word(text):\n",
    "    words = re.findall(r'\\w+', text.lower())\n",
    "    word_count = {}\n",
    "    for word in words:\n",
    "        if word in word_count:\n",
    "            word_count[word] += 1\n",
    "        else:\n",
    "            word_count[word] = 1\n",
    "    most_frequent = max(word_count, key=word_count.get)\n",
    "    return most_frequent, word_count[most_frequent]\n",
    "text = \"This is a sample text. This text contains some sample words. Text sample is a sample.\"\n",
    "most_frequent, frequency = most_frequent_word(text)\n",
    "print(f\"The most frequent word is '{most_frequent}' with a frequency of {frequency} times.\")"
   ]
  },
  {
   "cell_type": "markdown",
   "id": "cd5bb925-ff3b-4df4-976d-9d91b4786a1f",
   "metadata": {},
   "source": [
    "45. Find all unique words in a string."
   ]
  },
  {
   "cell_type": "code",
   "execution_count": 21,
   "id": "9e41ad40-56cd-44e5-95d8-332b3dea9185",
   "metadata": {},
   "outputs": [
    {
     "name": "stdout",
     "output_type": "stream",
     "text": [
      "Unique words in the text:\n",
      "text\n",
      "sample\n",
      "contains\n",
      "some\n",
      "words.\n",
      "this\n",
      "sample.\n",
      "text.\n",
      "a\n",
      "is\n"
     ]
    }
   ],
   "source": [
    "def find_unique_words(text):\n",
    "    words = text.lower().split()\n",
    "    unique_words = set(words)\n",
    "    return unique_words\n",
    "text = \"This is a sample text. This text contains some sample words. Text sample is a sample.\"\n",
    "unique_words = find_unique_words(text)\n",
    "print(\"Unique words in the text:\")\n",
    "for word in unique_words:\n",
    "    print(word)"
   ]
  },
  {
   "cell_type": "markdown",
   "id": "ad478117-ae89-463d-841e-acecf19da510",
   "metadata": {},
   "source": [
    "46. Count the number of syllables in a string."
   ]
  },
  {
   "cell_type": "code",
   "execution_count": 27,
   "id": "f18603f0-fc56-4a6a-8b21-69f1762c54c9",
   "metadata": {},
   "outputs": [
    {
     "name": "stdout",
     "output_type": "stream",
     "text": [
      "The word 'hello' has 2 syllable's.\n",
      "The word 'sample text' has 3 syllable's.\n"
     ]
    }
   ],
   "source": [
    "import re\n",
    "\n",
    "def count_syllables(word):\n",
    "    word = re.sub(r'[^a-zA-Z]', '', word.lower())\n",
    "    if not word:\n",
    "        return 0\n",
    "    syllable_pattern = r'[aeiouy]+'\n",
    "    syllables = len(re.findall(syllable_pattern, word))\n",
    "    return syllables\n",
    "word = \"hello\"\n",
    "word1 = \"sample text\"\n",
    "syllable_count = count_syllables(word)\n",
    "syllable_count1 = count_syllables(word1)\n",
    "print(f\"The word '{word}' has {syllable_count} syllable's.\")\n",
    "print(f\"The word '{word1}' has {syllable_count1} syllable's.\")"
   ]
  },
  {
   "cell_type": "markdown",
   "id": "3fde7aae-3358-407b-892b-bde33841be0e",
   "metadata": {},
   "source": [
    "47. Check if a string contains any special characters."
   ]
  },
  {
   "cell_type": "code",
   "execution_count": 5,
   "id": "16f1655a-a0d3-41c6-9e73-9403a5b498b2",
   "metadata": {},
   "outputs": [
    {
     "name": "stdout",
     "output_type": "stream",
     "text": [
      "'This is a regular sentence.' contains special characters: True\n",
      "'This one contains a special character: @' contains special characters: True\n"
     ]
    }
   ],
   "source": [
    "import re\n",
    "\n",
    "def contains_special_characters(text):\n",
    "    special_char_pattern = r'[!@#$%^&*()_+{}\\[\\]:;\"\\'<>,.?\\\\|]'\n",
    "    if re.search(special_char_pattern, text):\n",
    "        return True\n",
    "    else:\n",
    "        return False\n",
    "\n",
    "text1 = \"This is a regular sentence.\"\n",
    "text2 = \"This one contains a special character: @\"\n",
    "\n",
    "result1 = contains_special_characters(text1)\n",
    "result2 = contains_special_characters(text2)\n",
    "\n",
    "print(f\"'{text1}' contains special characters: {result1}\")\n",
    "print(f\"'{text2}' contains special characters: {result2}\")"
   ]
  },
  {
   "cell_type": "markdown",
   "id": "4e861b10-ebf6-46e2-a675-824d69fdbe0d",
   "metadata": {},
   "source": [
    "48. Remove the nth word from a string."
   ]
  },
  {
   "cell_type": "code",
   "execution_count": 19,
   "id": "d864987b-da21-4f34-ab7e-5c1a54a05c9d",
   "metadata": {},
   "outputs": [
    {
     "name": "stdout",
     "output_type": "stream",
     "text": [
      "Original:This is sample text\n",
      "Modified:This is text\n"
     ]
    }
   ],
   "source": [
    "def remove_nth_word(text,n):\n",
    "    char = text.split()\n",
    "    if n >=1 and n <= len(char):\n",
    "        del char [n - 1]\n",
    "        modified_string = \" \".join(char)\n",
    "        return modified_string\n",
    "    else :\n",
    "        return \"Invalid n value\"\n",
    "text = \"This is sample text\"\n",
    "n = 3\n",
    "output = remove_nth_word(text,n)\n",
    "print(f\"Original:{text}\\nModified:{output}\")"
   ]
  },
  {
   "cell_type": "markdown",
   "id": "fd4009ab-3e3a-45c3-84f6-8f6e2b98cc41",
   "metadata": {},
   "source": [
    "49. Insert a word at the nth position in a string."
   ]
  },
  {
   "cell_type": "code",
   "execution_count": 32,
   "id": "91a2a420-745e-4796-8c25-4d0d515efaf3",
   "metadata": {},
   "outputs": [
    {
     "name": "stdout",
     "output_type": "stream",
     "text": [
      "Original: This is sample text\n",
      "Modified: Hey, This is sample text\n"
     ]
    }
   ],
   "source": [
    "def insert_nth_word(text,insert,n):\n",
    "    char = text.split()\n",
    "    if n >=0 and n <= len(char):\n",
    "        char.insert(n,insert)\n",
    "        modified_string = \" \".join(char)\n",
    "        return modified_string\n",
    "    else :\n",
    "        return \"Invalid n value\"\n",
    "text = \"This is sample text\"\n",
    "insert = \"Hey,\"\n",
    "n = 0\n",
    "output = insert_nth_word(text,insert,n)\n",
    "print(f\"Original: {text}\\nModified: {output}\")"
   ]
  },
  {
   "cell_type": "markdown",
   "id": "a52b65ce-70ba-4d43-a811-e37ef166981a",
   "metadata": {},
   "source": [
    "50. Convert a CSV string to a list of lists."
   ]
  },
  {
   "cell_type": "code",
   "execution_count": 36,
   "id": "1d0dd219-c5b0-426b-ac51-30a123d99e67",
   "metadata": {},
   "outputs": [
    {
     "name": "stdout",
     "output_type": "stream",
     "text": [
      "['Name', ' Age', ' Sex', ' Location']\n",
      "['Udaya', ' 27', ' Male', ' Pondicherry']\n"
     ]
    }
   ],
   "source": [
    "import csv\n",
    "from io import StringIO\n",
    "\n",
    "def convert_csv(csv_string):\n",
    "    csv_text = csv.reader(StringIO(csv_string))\n",
    "    csv_convert = [row for row in csv_text]\n",
    "    return csv_convert\n",
    "csv_string = \"Name, Age, Sex, Location\\nUdaya, 27, Male, Pondicherry\"\n",
    "output = convert_csv(csv_string)\n",
    "for row in output:\n",
    "    print(row)"
   ]
  },
  {
   "cell_type": "markdown",
   "id": "7fc2c2f0-e065-459d-af6c-725821fc4274",
   "metadata": {
    "tags": []
   },
   "source": [
    "### List Based Practice Problem :"
   ]
  },
  {
   "cell_type": "markdown",
   "id": "d3cee013-d68e-42ac-b7a3-8719c3b98e1d",
   "metadata": {},
   "source": [
    "1. Create a list with integers from 1 to 10."
   ]
  },
  {
   "cell_type": "code",
   "execution_count": 2,
   "id": "ad4ea2f8-33c2-4f53-bc62-028d923b6c1e",
   "metadata": {},
   "outputs": [
    {
     "name": "stdout",
     "output_type": "stream",
     "text": [
      "[1, 2, 3, 4, 5, 6, 7, 8, 9, 10]\n"
     ]
    }
   ],
   "source": [
    "my_list = [i for i in range(1, 11)]\n",
    "print(my_list)"
   ]
  },
  {
   "cell_type": "markdown",
   "id": "adaecedf-23cf-44f5-9066-961d3ea417c7",
   "metadata": {},
   "source": [
    "2. Find the length of a list without using the `len()` function."
   ]
  },
  {
   "cell_type": "code",
   "execution_count": 12,
   "id": "c3f60018-b09d-483b-874f-2e5411ccdb05",
   "metadata": {},
   "outputs": [
    {
     "name": "stdout",
     "output_type": "stream",
     "text": [
      "length of the text is : 7\n"
     ]
    }
   ],
   "source": [
    "def length_list(text):\n",
    "    count = 0\n",
    "    for i in text :\n",
    "        count += 1\n",
    "    return count\n",
    "text = [1,2,3,4,\"hello\",5,89]\n",
    "output = length_list(text)\n",
    "print(f\"length of the text is : {output}\")"
   ]
  },
  {
   "cell_type": "markdown",
   "id": "f11e5707-89ee-4059-a722-4e641605193b",
   "metadata": {},
   "source": [
    "3. Append an element to the end of a list."
   ]
  },
  {
   "cell_type": "code",
   "execution_count": 18,
   "id": "dddea6a0-152e-4e41-b7f6-83235cdb4322",
   "metadata": {},
   "outputs": [
    {
     "name": "stdout",
     "output_type": "stream",
     "text": [
      "[1, 2, 3, 4]\n"
     ]
    }
   ],
   "source": [
    "def append_list(lis,apnd):\n",
    "    lis.append(apnd)\n",
    "    return lis\n",
    "lis = [1,2,3]\n",
    "apnd = 4\n",
    "output = append_list(lis,apnd)\n",
    "print(output)"
   ]
  },
  {
   "cell_type": "markdown",
   "id": "3ca2a6fa-1e16-480c-a674-c2f048d931ce",
   "metadata": {},
   "source": [
    "4. Insert an element at a specific index in a list."
   ]
  },
  {
   "cell_type": "code",
   "execution_count": 26,
   "id": "bbd0abc4-f2b6-4cc4-84c0-4fa0642a8c53",
   "metadata": {},
   "outputs": [
    {
     "name": "stdout",
     "output_type": "stream",
     "text": [
      "[1, 2, 3, 4, 5, 6, 7, 8, 9]\n"
     ]
    }
   ],
   "source": [
    "my_list = [1,2,3,4,6,7,8,9]\n",
    "element = 5\n",
    "my_list.insert(4,element)\n",
    "print(my_list)"
   ]
  },
  {
   "cell_type": "markdown",
   "id": "15c55cc2-2a18-4ad2-a7d0-53b5f36bf11a",
   "metadata": {},
   "source": [
    "5. Remove an element from a list by its value."
   ]
  },
  {
   "cell_type": "code",
   "execution_count": 28,
   "id": "2854cb29-a0a6-4e11-8235-d7001c704fbd",
   "metadata": {},
   "outputs": [
    {
     "name": "stdout",
     "output_type": "stream",
     "text": [
      "[1, 2, 4, 5]\n"
     ]
    }
   ],
   "source": [
    "my_list = [1, 2, 3, 4, 5]\n",
    "value_to_remove = 3\n",
    "my_list.remove(value_to_remove)\n",
    "print(my_list)"
   ]
  },
  {
   "cell_type": "markdown",
   "id": "b6e2a2fd-a968-4739-adec-c39be62eab16",
   "metadata": {},
   "source": [
    "6. Remove an element from a list by its index."
   ]
  },
  {
   "cell_type": "code",
   "execution_count": 35,
   "id": "ac32335b-6406-43fc-890e-ce979b5e3490",
   "metadata": {},
   "outputs": [
    {
     "name": "stdout",
     "output_type": "stream",
     "text": [
      "[0, 1, 2, 3, 4, 6, 7, 8, 9, 10]\n"
     ]
    }
   ],
   "source": [
    "my_list = [0,1,2,3,4,5,6,7,8,9,10]\n",
    "index_to_remove = 5\n",
    "my_list.pop(index_to_remove)\n",
    "print(my_list)"
   ]
  },
  {
   "cell_type": "markdown",
   "id": "5b264fea-a48d-4a1e-8984-c395923454aa",
   "metadata": {},
   "source": [
    "7. Check if an element exists in a list."
   ]
  },
  {
   "cell_type": "code",
   "execution_count": 34,
   "id": "ec676300-060a-4203-89cb-ceb487ee95ff",
   "metadata": {},
   "outputs": [
    {
     "name": "stdout",
     "output_type": "stream",
     "text": [
      "It exist\n"
     ]
    }
   ],
   "source": [
    "def check_exist(lis,exist):\n",
    "    if exist in lis:\n",
    "        return \"It exist\"\n",
    "    else:\n",
    "        return \"It doesn't exist\"\n",
    "lis = [1,2,3,4,5]\n",
    "exist = 2\n",
    "output = check_exist(lis,exist)\n",
    "print(output)"
   ]
  },
  {
   "cell_type": "markdown",
   "id": "46003f7a-659a-46a3-9e43-158c962564b6",
   "metadata": {},
   "source": [
    "8. Find the index of the first occurrence of an element in a list."
   ]
  },
  {
   "cell_type": "code",
   "execution_count": 38,
   "id": "eeaeeee1-fe84-40d8-bde5-99e03348ee1f",
   "metadata": {},
   "outputs": [
    {
     "name": "stdout",
     "output_type": "stream",
     "text": [
      "the index of 10 is 9\n"
     ]
    }
   ],
   "source": [
    "lis = [1,2,3,4,5,6,7,8,9,10]\n",
    "find = 10\n",
    "index = lis.index(find)\n",
    "print(f\"the index of {find} is {index}\")"
   ]
  },
  {
   "cell_type": "markdown",
   "id": "3e6fcb32-be8d-4aaf-881d-e861b2a32d76",
   "metadata": {},
   "source": [
    "9. Count the occurrences of an element in a list."
   ]
  },
  {
   "cell_type": "code",
   "execution_count": 40,
   "id": "00cb111a-73e8-48b1-a6b0-4b59daab293e",
   "metadata": {},
   "outputs": [
    {
     "name": "stdout",
     "output_type": "stream",
     "text": [
      "The element 5 is appeared 3 times\n"
     ]
    }
   ],
   "source": [
    "my_list = [1,2,3,4,4,5,6,5,7,8,35,23,5,4,78,4,3]\n",
    "element_to_find = 5\n",
    "found = my_list.count(element_to_find)\n",
    "print(f\"The element {element_to_find} is appeared {found} times\")\n"
   ]
  },
  {
   "cell_type": "markdown",
   "id": "280ff513-15af-4286-b6ec-8154c4eca3ee",
   "metadata": {},
   "source": [
    "10. Reverse the order of elements in a list."
   ]
  },
  {
   "cell_type": "code",
   "execution_count": 44,
   "id": "8bb9cdec-eb64-42e6-af1a-bcfc7e9c654c",
   "metadata": {},
   "outputs": [
    {
     "name": "stdout",
     "output_type": "stream",
     "text": [
      "List : [1, 2, 3, 4, 5, 6]\n",
      "reversed list : [6, 5, 4, 3, 2, 1]\n"
     ]
    }
   ],
   "source": [
    "my_list = [1,2,3,4,5,6]\n",
    "reverse = my_list[::-1]\n",
    "print(f\"List : {my_list}\\nreversed list : {reverse}\")"
   ]
  },
  {
   "cell_type": "markdown",
   "id": "30aa2d1a-7b8f-4122-99ac-027d6ea8d9e3",
   "metadata": {},
   "source": [
    "11. Sort a list in ascending order."
   ]
  },
  {
   "cell_type": "code",
   "execution_count": 45,
   "id": "e2a4f8c5-382c-46e1-a3e2-ec1f0e914c5f",
   "metadata": {},
   "outputs": [
    {
     "name": "stdout",
     "output_type": "stream",
     "text": [
      "[1, 2, 3, 4, 5, 6, 7, 8, 9]\n"
     ]
    }
   ],
   "source": [
    "my_list = [8,7,6,4,3,2,5,1,9]\n",
    "my_list.sort()\n",
    "print(my_list)"
   ]
  },
  {
   "cell_type": "markdown",
   "id": "5009eb2c-843d-407a-b900-e2bfa1fa2818",
   "metadata": {},
   "source": [
    "12. Sort a list in descending order."
   ]
  },
  {
   "cell_type": "code",
   "execution_count": 46,
   "id": "fdd4be6b-8129-4f75-94ad-860b87f1f20f",
   "metadata": {},
   "outputs": [
    {
     "name": "stdout",
     "output_type": "stream",
     "text": [
      "[9, 8, 7, 6, 5, 4, 3, 2, 1]\n"
     ]
    }
   ],
   "source": [
    "my_list = [8,7,6,4,3,2,5,1,9]\n",
    "my_list.sort(reverse=True)\n",
    "print(my_list)"
   ]
  },
  {
   "cell_type": "markdown",
   "id": "f382fc48-3bcd-4f22-9996-33e703810258",
   "metadata": {},
   "source": [
    "13. Create a list of even numbers from 1 to 20."
   ]
  },
  {
   "cell_type": "code",
   "execution_count": 53,
   "id": "1ae1bbf1-bf31-4bda-91f7-0bafd0d91c4b",
   "metadata": {},
   "outputs": [
    {
     "name": "stdout",
     "output_type": "stream",
     "text": [
      "[2, 4, 6, 8, 10, 12, 14, 16, 18, 20]\n"
     ]
    }
   ],
   "source": [
    "def even_num():\n",
    "    empty_list = []\n",
    "    for i in range(1,21):\n",
    "        if i % 2 == 0:\n",
    "            empty_list.append(i)\n",
    "    return empty_list\n",
    "even = even_num()\n",
    "print(even)"
   ]
  },
  {
   "cell_type": "markdown",
   "id": "4c367a8f-eea2-48b4-9567-915ef2a9f2d0",
   "metadata": {},
   "source": [
    "14. Create a list of odd numbers from 1 to 20."
   ]
  },
  {
   "cell_type": "code",
   "execution_count": 3,
   "id": "f0aee7eb-1963-4404-909a-d66117dc8a2a",
   "metadata": {},
   "outputs": [
    {
     "name": "stdout",
     "output_type": "stream",
     "text": [
      "[1, 3, 5, 7, 9, 11, 13, 15, 17, 19]\n"
     ]
    }
   ],
   "source": [
    "def odd_num():\n",
    "    empty_list = []\n",
    "    for i in range(1,21):\n",
    "        if i % 2 == 1:\n",
    "            empty_list.append(i)\n",
    "    return empty_list\n",
    "odd = odd_num()\n",
    "print(odd)"
   ]
  },
  {
   "cell_type": "markdown",
   "id": "1c207a7e-0c27-42cd-9820-62447e7acd55",
   "metadata": {},
   "source": [
    "15. Find the sum of all elements in a list."
   ]
  },
  {
   "cell_type": "code",
   "execution_count": 4,
   "id": "6d717c4c-2d17-49c1-9473-56f66623a19f",
   "metadata": {},
   "outputs": [
    {
     "name": "stdout",
     "output_type": "stream",
     "text": [
      "20\n"
     ]
    }
   ],
   "source": [
    "my_list = [5,5,5,5]\n",
    "sum_of_list = sum(my_list)\n",
    "print(sum_of_list)"
   ]
  },
  {
   "cell_type": "markdown",
   "id": "7f7508d7-65db-41fb-bc0c-70620790835e",
   "metadata": {},
   "source": [
    "16. Find the maximum value in a list."
   ]
  },
  {
   "cell_type": "code",
   "execution_count": 6,
   "id": "8cabd02a-657d-413e-88ba-2e77e78c50db",
   "metadata": {},
   "outputs": [
    {
     "name": "stdout",
     "output_type": "stream",
     "text": [
      "10\n"
     ]
    }
   ],
   "source": [
    "my_list = [1,2,3,4,5,6,7,8,9,10,1,2,3]\n",
    "max_num = max(my_list)\n",
    "print(max_num)"
   ]
  },
  {
   "cell_type": "markdown",
   "id": "e06df2a8-749d-479b-8e4c-7e6b52cc158c",
   "metadata": {},
   "source": [
    "17. Find the minimum value in a list."
   ]
  },
  {
   "cell_type": "code",
   "execution_count": 8,
   "id": "ad14db8c-d21c-4c05-b436-d0a9521fb813",
   "metadata": {},
   "outputs": [
    {
     "name": "stdout",
     "output_type": "stream",
     "text": [
      "1\n"
     ]
    }
   ],
   "source": [
    "my_list = [1,2,3,4,5,6,7,8,9,10]\n",
    "min_num = min(my_list)\n",
    "print(min_num)"
   ]
  },
  {
   "cell_type": "markdown",
   "id": "b11edb8e-b821-42f8-a2f2-4c8d29ea2551",
   "metadata": {},
   "source": [
    "18. Create a list of squares of numbers from 1 to 10."
   ]
  },
  {
   "cell_type": "code",
   "execution_count": 9,
   "id": "1175d6fa-7938-43d5-9e0e-c115a3c38614",
   "metadata": {},
   "outputs": [
    {
     "name": "stdout",
     "output_type": "stream",
     "text": [
      "[1, 4, 9, 16, 25, 36, 49, 64, 81, 100]\n"
     ]
    }
   ],
   "source": [
    "square_list = [x ** 2 for x in range(1,11)]\n",
    "print(square_list)"
   ]
  },
  {
   "cell_type": "markdown",
   "id": "3b438209-5572-486f-9e2a-0dfb6a174bc7",
   "metadata": {},
   "source": [
    "19. Create a list of random numbers."
   ]
  },
  {
   "cell_type": "code",
   "execution_count": 16,
   "id": "a90f3f42-7eb4-4ee0-9291-c960c1a27ed1",
   "metadata": {},
   "outputs": [
    {
     "name": "stdout",
     "output_type": "stream",
     "text": [
      "[63, 20, 88, 39, 75, 85, 99, 71, 5, 48]\n"
     ]
    }
   ],
   "source": [
    "import random\n",
    "\n",
    "random_int = [random.randint(1,100) for _ in range(10)]\n",
    "print(random_int)"
   ]
  },
  {
   "cell_type": "markdown",
   "id": "e739784a-41f0-461f-bd99-840de36095fd",
   "metadata": {},
   "source": [
    "20. Remove duplicates from a list."
   ]
  },
  {
   "cell_type": "code",
   "execution_count": 21,
   "id": "dfc8ebd9-39d3-41ee-a611-0a31387669fc",
   "metadata": {},
   "outputs": [
    {
     "name": "stdout",
     "output_type": "stream",
     "text": [
      "[1, 2, 3, 4, 5, 6, 7, 8, 9]\n"
     ]
    }
   ],
   "source": [
    "my_list = [1,3,4,5,5,6,7,8,8,8,9,2,1,2,3,4,3,3,3]\n",
    "remove_duplicate = list(set(my_list))\n",
    "print(remove_duplicate)"
   ]
  },
  {
   "cell_type": "markdown",
   "id": "00665af0-c02a-4e82-bd82-5a9ba3af5752",
   "metadata": {},
   "source": [
    "21. Find the common elements between two lists."
   ]
  },
  {
   "cell_type": "code",
   "execution_count": 25,
   "id": "a66f8e52-3751-4b29-bc15-4b0d9f5c84b0",
   "metadata": {},
   "outputs": [
    {
     "name": "stdout",
     "output_type": "stream",
     "text": [
      "[1, 2]\n"
     ]
    }
   ],
   "source": [
    "common_element = []\n",
    "list1 = [1,2,3,4,5]\n",
    "list2 = [6,7,8,2,1]\n",
    "for common in list1:\n",
    "    if common in list2:\n",
    "        common_element.append(common)\n",
    "print(common_element)"
   ]
  },
  {
   "cell_type": "markdown",
   "id": "54134bc8-4c44-4f8d-80cc-724d580c15a6",
   "metadata": {},
   "source": [
    "22. Find the difference between two lists."
   ]
  },
  {
   "cell_type": "code",
   "execution_count": 28,
   "id": "5fae031a-6213-460c-8528-6f4e6fe8036f",
   "metadata": {},
   "outputs": [
    {
     "name": "stdout",
     "output_type": "stream",
     "text": [
      "number not in list 2: [50, 70, 30]\n",
      "number not in list 1: [80, 90, 60]\n"
     ]
    }
   ],
   "source": [
    "list1 = [10,20,30,50,70]\n",
    "list2 = [10,20,90,60,80]\n",
    "difference_1 = list(set(list1) - set(list2))\n",
    "difference_2 = list(set(list2) - set(list1))\n",
    "print(f\"number not in list 2: {difference_1}\")\n",
    "print(f\"number not in list 1: {difference_2}\")"
   ]
  },
  {
   "cell_type": "markdown",
   "id": "b43c7176-1d8d-468c-ab2d-e39c3b02da6a",
   "metadata": {},
   "source": [
    "23. Merge two lists."
   ]
  },
  {
   "cell_type": "code",
   "execution_count": 29,
   "id": "bdbee07b-aef5-409d-a1e9-d258ce3ddb93",
   "metadata": {},
   "outputs": [
    {
     "name": "stdout",
     "output_type": "stream",
     "text": [
      "[10, 20, 30, 40, 50, 60, 70, 80, 90, 100]\n"
     ]
    }
   ],
   "source": [
    "list_1 = [10,20,30,40,50]\n",
    "list_2 = [60,70,80,90,100]\n",
    "merged_list = list_1 + list_2\n",
    "print(merged_list)"
   ]
  },
  {
   "cell_type": "markdown",
   "id": "39b7a52e-06ae-49c3-90dd-9e3027868052",
   "metadata": {},
   "source": [
    "24. Multiply all elements in a list by 2."
   ]
  },
  {
   "cell_type": "code",
   "execution_count": 30,
   "id": "e8f53cd3-1495-46bc-94af-7d2ed104239f",
   "metadata": {},
   "outputs": [
    {
     "name": "stdout",
     "output_type": "stream",
     "text": [
      "[20, 40, 60, 80, 100]\n"
     ]
    }
   ],
   "source": [
    "my_list = [10,20,30,40,50]\n",
    "multi_elements = [x * 2 for x in my_list]\n",
    "print(multi_elements)"
   ]
  },
  {
   "cell_type": "markdown",
   "id": "757b3b77-d326-43d8-a17e-dbb7ba3c59c1",
   "metadata": {},
   "source": [
    "25. Filter out all even numbers from a list."
   ]
  },
  {
   "cell_type": "code",
   "execution_count": 32,
   "id": "61c0d893-1a53-4bb4-bad5-714c78fdea73",
   "metadata": {},
   "outputs": [
    {
     "name": "stdout",
     "output_type": "stream",
     "text": [
      "[1, 3, 5, 7, 9]\n"
     ]
    }
   ],
   "source": [
    "my_list = [1,2,3,4,5,6,7,8,9,10]\n",
    "empty_list = []\n",
    "for x in my_list:\n",
    "    if x % 2 == 0 :\n",
    "        continue\n",
    "    else:\n",
    "        empty_list.append(x)\n",
    "print(empty_list)"
   ]
  },
  {
   "cell_type": "markdown",
   "id": "45f9a551-022d-4074-99be-87e2f209d760",
   "metadata": {},
   "source": [
    "26. Convert a list of strings to a list of integers."
   ]
  },
  {
   "cell_type": "code",
   "execution_count": 33,
   "id": "c4dd7a33-c75b-4e2b-8550-79a523ea9917",
   "metadata": {},
   "outputs": [
    {
     "name": "stdout",
     "output_type": "stream",
     "text": [
      "[10, 20, 30, 40, 50]\n"
     ]
    }
   ],
   "source": [
    "my_list = [\"10\",\"20\",\"30\",\"40\",\"50\"]\n",
    "convert = [int(x) for x in my_list]\n",
    "print(convert)"
   ]
  },
  {
   "cell_type": "markdown",
   "id": "8e0983eb-56b7-4850-85bd-20d457486fb4",
   "metadata": {},
   "source": [
    "27. Convert a list of integers to a list of strings."
   ]
  },
  {
   "cell_type": "code",
   "execution_count": 34,
   "id": "4cf26eea-ed3c-4c78-bac7-aa63df169e1f",
   "metadata": {},
   "outputs": [
    {
     "name": "stdout",
     "output_type": "stream",
     "text": [
      "['10', '20', '30', '40', '50']\n"
     ]
    }
   ],
   "source": [
    "my_list = [10,20,30,40,50,]\n",
    "convert = [str(x) for x in my_list]\n",
    "print(convert)"
   ]
  },
  {
   "cell_type": "markdown",
   "id": "e83293a5-a12a-4407-8d72-2d54791240d1",
   "metadata": {},
   "source": [
    "28. Flatten a nested list."
   ]
  },
  {
   "cell_type": "code",
   "execution_count": 177,
   "id": "18dd5c9d-c90e-4b6a-bd6f-65a91e134aa9",
   "metadata": {},
   "outputs": [
    {
     "name": "stdout",
     "output_type": "stream",
     "text": [
      "[10, 20, 30, 40, 50, 60, 70, 80, 90, 100]\n"
     ]
    }
   ],
   "source": [
    "def flatten_nested_list(nest_list):\n",
    "    flatten_list = []\n",
    "    for x in nest_list:\n",
    "        if isinstance(x, list):\n",
    "            flatten_list.extend(flatten_nested_list(x))\n",
    "        else:\n",
    "            flatten_list.append(x)\n",
    "    return flatten_list\n",
    "nest_list = [10,20,30,[40,50,[60,70,80],90],100]\n",
    "output = flatten_nested_list(nest_list)\n",
    "print(output)"
   ]
  },
  {
   "cell_type": "markdown",
   "id": "74aefe82-4b32-4e8f-922a-ae2f2ed97447",
   "metadata": {},
   "source": [
    "29. Create a list of the first 10 Fibonacci numbers."
   ]
  },
  {
   "cell_type": "code",
   "execution_count": 12,
   "id": "4e72ddad-7460-4a25-ac5d-6cb1cb3b8331",
   "metadata": {},
   "outputs": [
    {
     "name": "stdout",
     "output_type": "stream",
     "text": [
      "[0, 1, 1, 2, 3, 5, 8, 13, 21, 34]\n"
     ]
    }
   ],
   "source": [
    "def find_fibonacci(n):\n",
    "    fibonacci = [0,1]\n",
    "    for i in range(2, n):\n",
    "        fibo = fibonacci[i - 1] + fibonacci[i-2]\n",
    "        fibonacci.append(fibo)\n",
    "    return fibonacci\n",
    "\n",
    "output = find_fibonacci(10)\n",
    "print(output)"
   ]
  },
  {
   "cell_type": "markdown",
   "id": "d759b388-aede-4a76-9f4a-35f7f2704e15",
   "metadata": {},
   "source": [
    "30. Check if a list is sorted."
   ]
  },
  {
   "cell_type": "code",
   "execution_count": 24,
   "id": "dd8ddce2-9bff-4660-9733-e8e88cad9164",
   "metadata": {},
   "outputs": [
    {
     "name": "stdout",
     "output_type": "stream",
     "text": [
      "[10, 20, 30, 40, 50, 70] The list is sorted\n",
      "[20, 10, 50, 30, 20, 90] The list is not sorted\n"
     ]
    }
   ],
   "source": [
    "def check_sorted(lis):\n",
    "    for i in range(1, len(lis)):\n",
    "        if lis[i] < lis[i-1]:\n",
    "            return \"The list is not sorted\"\n",
    "    return\"The list is sorted\"\n",
    "lis = [10,20,30,40,50,70]\n",
    "lis1 = [20,10,50,30,20,90]\n",
    "output = check_sorted(lis)\n",
    "output1 = check_sorted(lis1)\n",
    "print(f\"{lis} {output}\\n{lis1} {output1}\")"
   ]
  },
  {
   "cell_type": "markdown",
   "id": "91959f5e-6bb0-41ef-99cc-b48e87cbbd3b",
   "metadata": {},
   "source": [
    "31. Rotate a list to the left by `n` positions."
   ]
  },
  {
   "cell_type": "code",
   "execution_count": 30,
   "id": "52b54316-62c8-452b-a2c5-d0f4a2c9dc66",
   "metadata": {},
   "outputs": [
    {
     "name": "stdout",
     "output_type": "stream",
     "text": [
      "[4, 5, 1, 2, 3]\n"
     ]
    }
   ],
   "source": [
    "def rotate_left(lis, n):\n",
    "    n = n % len(lis)\n",
    "    rotated_list = lis[n:] + lis[:n]\n",
    "    return rotated_list\n",
    "\n",
    "my_list = [1, 2, 3, 4, 5]\n",
    "n = 3\n",
    "rotated_list = rotate_left(my_list, n)\n",
    "print(rotated_list)"
   ]
  },
  {
   "cell_type": "markdown",
   "id": "990d48b4-3652-4ec9-b34b-b266727cf2cd",
   "metadata": {},
   "source": [
    "32. Rotate a list to the right by `n` positions."
   ]
  },
  {
   "cell_type": "code",
   "execution_count": 35,
   "id": "c6294201-7979-4bb4-ba7f-41974810830a",
   "metadata": {},
   "outputs": [
    {
     "name": "stdout",
     "output_type": "stream",
     "text": [
      "[3, 4, 5, 1, 2]\n"
     ]
    }
   ],
   "source": [
    "def rotate_right(lis, n):\n",
    "    n = n % len(lis)\n",
    "    rotated_list = lis[-n:] + lis[:-n]\n",
    "    return rotated_list\n",
    "\n",
    "my_list = [1, 2, 3, 4, 5]\n",
    "n = 3\n",
    "rotated_list = rotate_right(my_list, n)\n",
    "print(rotated_list)"
   ]
  },
  {
   "cell_type": "markdown",
   "id": "0bc9e9f6-abbc-44b6-81ed-3e584e3bc319",
   "metadata": {},
   "source": [
    "33. Create a list of prime numbers up to 50."
   ]
  },
  {
   "cell_type": "code",
   "execution_count": 38,
   "id": "ffe207e3-01c6-48bf-9ace-00623e6b85f7",
   "metadata": {},
   "outputs": [
    {
     "name": "stdout",
     "output_type": "stream",
     "text": [
      "[2, 3, 5, 7, 11, 13, 17, 19, 23, 29, 31, 37, 41, 43, 47]\n"
     ]
    }
   ],
   "source": [
    "def is_prime(num):\n",
    "    if num < 2:\n",
    "        return False\n",
    "    for i in range(2, int(num ** 0.5) + 1):\n",
    "        if num % i == 0:\n",
    "            return False\n",
    "    return True\n",
    "\n",
    "prime_numbers = [num for num in range(2, 51) if is_prime(num)]\n",
    "\n",
    "print(prime_numbers)"
   ]
  },
  {
   "cell_type": "markdown",
   "id": "62f1f5d5-7d1b-4639-bc07-adc343d498c9",
   "metadata": {},
   "source": [
    "34. Split a list into chunks of size `n`."
   ]
  },
  {
   "cell_type": "code",
   "execution_count": 3,
   "id": "86e2a2ba-7f70-4f7a-989c-c2b53b5b0b72",
   "metadata": {},
   "outputs": [
    {
     "name": "stdout",
     "output_type": "stream",
     "text": [
      "[[1, 2], [3, 4], [5, 6], [7, 8], [9, 10]]\n"
     ]
    }
   ],
   "source": [
    "def chunk_list(arr, n):\n",
    "    return [arr[i:i + n] for i in range(0, len(arr), n)]\n",
    "\n",
    "my_list = [1, 2, 3, 4, 5, 6, 7, 8, 9, 10]\n",
    "chunked_list = chunk_list(my_list, 2)\n",
    "print(chunked_list)"
   ]
  },
  {
   "cell_type": "markdown",
   "id": "70e8c307-d40a-4fd1-ad03-2e5fa5f58846",
   "metadata": {},
   "source": [
    "35. Find the second largest number in a list."
   ]
  },
  {
   "cell_type": "code",
   "execution_count": 1,
   "id": "495cf157-5d11-4821-8854-7ca78747a649",
   "metadata": {},
   "outputs": [
    {
     "name": "stdout",
     "output_type": "stream",
     "text": [
      "The second largest number is: 15\n"
     ]
    }
   ],
   "source": [
    "def second_largest(arr):\n",
    "    if len(arr) < 2:\n",
    "        return \"The list does not have a second largest number.\"\n",
    "    \n",
    "    largest = max(arr[0], arr[1])\n",
    "    second_largest = min(arr[0], arr[1])\n",
    "\n",
    "    for num in arr:\n",
    "        if num > largest:\n",
    "            second_largest = largest\n",
    "            largest = num\n",
    "        elif num > second_largest and num < largest:\n",
    "            second_largest = num\n",
    "    return second_largest\n",
    "\n",
    "my_list = [10, 5, 8, 20, 15]\n",
    "result = second_largest(my_list)\n",
    "print(\"The second largest number is:\", result)    "
   ]
  },
  {
   "cell_type": "markdown",
   "id": "97b3e10a-a005-4523-9b22-bf90e2834dee",
   "metadata": {},
   "source": [
    "36. Replace every element in a list with its square."
   ]
  },
  {
   "cell_type": "code",
   "execution_count": 3,
   "id": "1c2623f2-7638-4247-b18c-e5d8118c9863",
   "metadata": {},
   "outputs": [
    {
     "name": "stdout",
     "output_type": "stream",
     "text": [
      "[100, 400, 900, 1600, 2500]\n"
     ]
    }
   ],
   "source": [
    "def square_root(arr):\n",
    "    sqr_root = [x ** 2 for x in arr]\n",
    "    return sqr_root\n",
    "my_list = [10,20,30,40,50]\n",
    "result = square_root(my_list)\n",
    "print(result)"
   ]
  },
  {
   "cell_type": "markdown",
   "id": "ffc38428-5503-430e-970f-75585bbbcafe",
   "metadata": {},
   "source": [
    "37. Convert a list to a dictionary where list elements become keys and their\n",
    "indices become values."
   ]
  },
  {
   "cell_type": "code",
   "execution_count": 4,
   "id": "5e84950b-d5f2-4055-bf73-b4b6fdc9b180",
   "metadata": {},
   "outputs": [
    {
     "name": "stdout",
     "output_type": "stream",
     "text": [
      "{'apple': 0, 'banana': 1, 'cherry': 2, 'date': 3}\n"
     ]
    }
   ],
   "source": [
    "def list_to_dict(arr):\n",
    "    dict_result = {value: index for index, value in enumerate(arr)}\n",
    "    return dict_result\n",
    "\n",
    "my_list = [\"apple\", \"banana\", \"cherry\", \"date\"]\n",
    "dict_result = list_to_dict(my_list)\n",
    "print(dict_result)\n"
   ]
  },
  {
   "cell_type": "markdown",
   "id": "12a65c6e-7636-4609-9349-ae8eb7cacb7d",
   "metadata": {},
   "source": [
    "38. Shuffle the elements of a list randomly."
   ]
  },
  {
   "cell_type": "code",
   "execution_count": 17,
   "id": "6e17c64b-0025-4120-9f9e-e45f2c2f28f9",
   "metadata": {},
   "outputs": [
    {
     "name": "stdout",
     "output_type": "stream",
     "text": [
      "[10, 30, 50, 20, 40]\n"
     ]
    }
   ],
   "source": [
    "import random\n",
    "\n",
    "def random_shuffle(my_list):\n",
    "    random.shuffle(my_list)\n",
    "    return my_list\n",
    "\n",
    "my_list = [10,20,30,40,50]\n",
    "result = random_shuffle(my_list)\n",
    "print(result)"
   ]
  },
  {
   "cell_type": "markdown",
   "id": "413f0f98-0e6e-4e49-9507-c8c59a732583",
   "metadata": {},
   "source": [
    "39. Create a list of the first 10 factorial numbers."
   ]
  },
  {
   "cell_type": "code",
   "execution_count": 3,
   "id": "5121ba7e-5d68-49ca-9458-575a3fc739c2",
   "metadata": {},
   "outputs": [
    {
     "name": "stdout",
     "output_type": "stream",
     "text": [
      "[1, 2, 6, 24, 120, 720, 5040, 40320, 362880, 3628800]\n"
     ]
    }
   ],
   "source": [
    "def factorial(n):\n",
    "    result = 1\n",
    "    for i in range(1, n + 1):\n",
    "        result *= i\n",
    "    return result\n",
    "\n",
    "n = range(1, 11)\n",
    "factorial_numbers = [factorial(i) for i in n]\n",
    "print(factorial_numbers)"
   ]
  },
  {
   "cell_type": "markdown",
   "id": "a55e2902-009d-4490-a06f-287aa0508c3a",
   "metadata": {},
   "source": [
    "40. Check if two lists have at least one element in common."
   ]
  },
  {
   "cell_type": "code",
   "execution_count": 11,
   "id": "bbde925d-c4ac-4670-a510-6190067d0e25",
   "metadata": {},
   "outputs": [
    {
     "name": "stdout",
     "output_type": "stream",
     "text": [
      "True\n"
     ]
    }
   ],
   "source": [
    "def check_list(lis1, lis2):\n",
    "    for n in lis1:\n",
    "        for i in lis2:\n",
    "            if n == i:\n",
    "                return True\n",
    "    return False\n",
    "\n",
    "lis1 = [1, 2, 3, 4, 5]\n",
    "lis2 = [1, 7, 8, 9, 10]\n",
    "print(check_list(lis1, lis2))"
   ]
  },
  {
   "cell_type": "markdown",
   "id": "bd1d1fa4-84c2-4cbe-b5c1-d461ff752d70",
   "metadata": {},
   "source": [
    "41. Remove all elements from a list."
   ]
  },
  {
   "cell_type": "code",
   "execution_count": 14,
   "id": "9a957035-5ebd-483e-a172-b50105b3cd19",
   "metadata": {},
   "outputs": [
    {
     "name": "stdout",
     "output_type": "stream",
     "text": [
      "[]\n"
     ]
    }
   ],
   "source": [
    "List = [1,2,34,45,56,\"asfdkjl\"]\n",
    "List.clear()\n",
    "print(List)"
   ]
  },
  {
   "cell_type": "markdown",
   "id": "4440485f-9966-4962-841a-f08e32e1d32b",
   "metadata": {},
   "source": [
    "42. Replace negative numbers in a list with 0."
   ]
  },
  {
   "cell_type": "code",
   "execution_count": 18,
   "id": "fe129527-8408-42c2-9282-1c8cb043189f",
   "metadata": {},
   "outputs": [
    {
     "name": "stdout",
     "output_type": "stream",
     "text": [
      "[1, 2, 3, 0, 0, 0, 8, 9, 10]\n"
     ]
    }
   ],
   "source": [
    "def replace_negative(lst):\n",
    "    result = []\n",
    "    for i in lst:\n",
    "        if i > 0:\n",
    "            result.append(i)\n",
    "        else:\n",
    "            result.append(0)\n",
    "    return result\n",
    "\n",
    "lis = [1, 2, 3, -4, -5, -6, 8, 9, 10]\n",
    "print(replace_negative(lis))\n"
   ]
  },
  {
   "cell_type": "markdown",
   "id": "5353481e-0894-443a-9d8e-f1f53f39d9e2",
   "metadata": {},
   "source": [
    "43. Convert a string into a list of words."
   ]
  },
  {
   "cell_type": "code",
   "execution_count": 22,
   "id": "8a82af72-cf74-4323-8281-e1e8b2e39533",
   "metadata": {},
   "outputs": [
    {
     "data": {
      "text/plain": [
       "['H', 'e', 'l', 'l', 'o']"
      ]
     },
     "execution_count": 22,
     "metadata": {},
     "output_type": "execute_result"
    }
   ],
   "source": [
    "string = \"Hello\"\n",
    "list(string)"
   ]
  },
  {
   "cell_type": "markdown",
   "id": "c2574d85-2f72-4936-8447-a947c9014d81",
   "metadata": {},
   "source": [
    "44. Convert a list of words into a string."
   ]
  },
  {
   "cell_type": "code",
   "execution_count": 29,
   "id": "e3a5744e-ea6d-46a5-877d-14a04a364bc7",
   "metadata": {},
   "outputs": [
    {
     "data": {
      "text/plain": [
       "\"['Hello', 'world']\""
      ]
     },
     "execution_count": 29,
     "metadata": {},
     "output_type": "execute_result"
    }
   ],
   "source": [
    "lis = ['Hello','world']\n",
    "str(lis)"
   ]
  },
  {
   "cell_type": "markdown",
   "id": "a8033160-1d23-4e2c-9f85-f25270e0ee99",
   "metadata": {},
   "source": [
    "45. Create a list of the first `n` powers of 2."
   ]
  },
  {
   "cell_type": "code",
   "execution_count": 30,
   "id": "c1db978d-8a1e-4c47-adfd-17c6a86e4f72",
   "metadata": {},
   "outputs": [
    {
     "name": "stdout",
     "output_type": "stream",
     "text": [
      "[1, 2, 4, 8, 16]\n"
     ]
    }
   ],
   "source": [
    "def powers_of_2(n):\n",
    "    return [2 ** i for i in range(n)]\n",
    "n = 5\n",
    "result = powers_of_2(n)\n",
    "print(result)"
   ]
  },
  {
   "cell_type": "markdown",
   "id": "1b45794e-9851-4c2c-a65e-77b11efbb391",
   "metadata": {},
   "source": [
    "46. Find the longest string in a list of strings."
   ]
  },
  {
   "cell_type": "code",
   "execution_count": 24,
   "id": "e1bb66a4-6510-4689-b02e-3253f6b30eba",
   "metadata": {},
   "outputs": [
    {
     "name": "stdout",
     "output_type": "stream",
     "text": [
      "Hello\n"
     ]
    }
   ],
   "source": [
    "def find_long_string(string):\n",
    "    long_string = string[0]\n",
    "    for i in string:\n",
    "        if len(i) > len(long_string):\n",
    "            long_string = i \n",
    "    return long_string\n",
    "string = ['Hello','How','are','You']\n",
    "print(find_long_string(string))"
   ]
  },
  {
   "cell_type": "markdown",
   "id": "f2267029-b216-4e37-8e6d-88f662d111da",
   "metadata": {},
   "source": [
    "47. Find the shortest string in a list of strings."
   ]
  },
  {
   "cell_type": "code",
   "execution_count": 30,
   "id": "463f4153-3e5f-4747-88e2-ba9053f5d498",
   "metadata": {},
   "outputs": [
    {
     "name": "stdout",
     "output_type": "stream",
     "text": [
      "how\n"
     ]
    }
   ],
   "source": [
    "def find_short_string(string):\n",
    "    long_string = string[0]\n",
    "    for i in string:\n",
    "        if len(i) < len(long_string):\n",
    "            long_string = i \n",
    "    return long_string\n",
    "string = ['Hello','how','are','You']\n",
    "print(find_short_string(string))"
   ]
  },
  {
   "cell_type": "markdown",
   "id": "e3dfce1f-67ed-49c6-bb79-77fd8a53ed61",
   "metadata": {},
   "source": [
    "48. Create a list of the first `n` triangular numbers."
   ]
  },
  {
   "cell_type": "code",
   "execution_count": 32,
   "id": "3f5b2fb1-5864-4d5a-8bb5-8c658f4f321a",
   "metadata": {},
   "outputs": [
    {
     "name": "stdout",
     "output_type": "stream",
     "text": [
      "[1, 3, 6, 10, 15, 21, 28, 36, 45]\n"
     ]
    }
   ],
   "source": [
    "def find_triangular(n):\n",
    "    result = []\n",
    "    for i in range(1,n):\n",
    "        triangular = i * (i+1) // 2\n",
    "        result.append(triangular)\n",
    "    return result\n",
    "n = 10\n",
    "print(find_triangular(n))"
   ]
  },
  {
   "cell_type": "markdown",
   "id": "af2ab445-d178-46b2-9beb-2b22a1db0161",
   "metadata": {},
   "source": [
    "49. Check if a list contains another list as a subsequence."
   ]
  },
  {
   "cell_type": "code",
   "execution_count": 37,
   "id": "db3ca415-7140-44ae-9ac0-dd0dea42d5a8",
   "metadata": {},
   "outputs": [
    {
     "name": "stdout",
     "output_type": "stream",
     "text": [
      "True\n"
     ]
    }
   ],
   "source": [
    "def check_subsequence(lis1,lis2):\n",
    "    lis1_len = len(lis1)\n",
    "    lis2_len = len(lis2)\n",
    "    lis1_index = 0\n",
    "    lis2_index = 0\n",
    "    while lis1_index < lis1_len:\n",
    "        if lis1[lis1_index] == lis2[lis2_index]:\n",
    "            lis2_index += 1\n",
    "            if lis2_index == lis2_len:\n",
    "                return True\n",
    "        lis1_index += 1\n",
    "    return False\n",
    "lis1 = [1, 2, 3, 4, 5, 6, 7, 8]\n",
    "lis2 = [3,4]\n",
    "print(check_subsequence(lis1,lis2))"
   ]
  },
  {
   "cell_type": "markdown",
   "id": "2ba1e729-cdea-47d0-8795-4436ee534a70",
   "metadata": {},
   "source": [
    "50. Swap two elements in a list by their indices."
   ]
  },
  {
   "cell_type": "code",
   "execution_count": 44,
   "id": "e291ddff-d064-4a6e-bb04-ab8895d68a83",
   "metadata": {},
   "outputs": [
    {
     "name": "stdout",
     "output_type": "stream",
     "text": [
      "[1, 3, 2, 4, 5]\n"
     ]
    }
   ],
   "source": [
    "def swap_element(lis,indice1,indice2):\n",
    "    lis[indice1],lis[indice2] = lis[indice2],lis[indice1]\n",
    "    return lis\n",
    "lis = [1,2,3,4,5]\n",
    "indice1 = 1\n",
    "indice2 = 2\n",
    "print(swap_element(lis,indice1,indice2))"
   ]
  },
  {
   "cell_type": "markdown",
   "id": "9263c59c-f585-46d9-936f-75b96b6deddd",
   "metadata": {},
   "source": [
    "Tuple Based Practice Problem :"
   ]
  },
  {
   "cell_type": "markdown",
   "id": "d87edefd-4204-4db1-951f-edd789e73850",
   "metadata": {},
   "source": [
    "1. Create a tuple with integers from 1 to 5."
   ]
  },
  {
   "cell_type": "code",
   "execution_count": 48,
   "id": "f435da1f-7411-4824-bb4d-e5c23ad087c4",
   "metadata": {},
   "outputs": [
    {
     "name": "stdout",
     "output_type": "stream",
     "text": [
      "<class 'tuple'>\n"
     ]
    }
   ],
   "source": [
    "tuples = (1,2,3,4,5)\n",
    "print(type(tuples))"
   ]
  },
  {
   "cell_type": "markdown",
   "id": "f88aadbb-85d3-4e03-9c67-48331369ba01",
   "metadata": {},
   "source": [
    "2. Access the third element of a tuple."
   ]
  },
  {
   "cell_type": "code",
   "execution_count": 56,
   "id": "cd37d383-192c-4f51-b2ee-794ecc20e760",
   "metadata": {},
   "outputs": [
    {
     "name": "stdout",
     "output_type": "stream",
     "text": [
      "third element of a tuple is : 3\n"
     ]
    }
   ],
   "source": [
    "tuples = (1,2,3,4,5)\n",
    "print(f'third element of a tuple is : {tuples[2]}')"
   ]
  },
  {
   "cell_type": "markdown",
   "id": "5150b881-2951-485d-9376-614846b35440",
   "metadata": {},
   "source": [
    "3. Find the length of a tuple without using the `len()` function."
   ]
  },
  {
   "cell_type": "code",
   "execution_count": 59,
   "id": "6ee1c07c-8731-4258-a3e2-0b24f5840949",
   "metadata": {},
   "outputs": [
    {
     "name": "stdout",
     "output_type": "stream",
     "text": [
      "6\n"
     ]
    }
   ],
   "source": [
    "def find_len(n):\n",
    "    count = 0\n",
    "    for i in n :\n",
    "        count += 1\n",
    "    return count\n",
    "n = (1,2,3,4,5,6)\n",
    "print(find_len(n))"
   ]
  },
  {
   "cell_type": "markdown",
   "id": "46b9a2ad-5611-4158-9a3b-603b3f586102",
   "metadata": {},
   "source": [
    "4. Count the occurrences of an element in a tuple."
   ]
  },
  {
   "cell_type": "code",
   "execution_count": 12,
   "id": "7c554abb-e086-4d47-9991-eeb56dd36923",
   "metadata": {},
   "outputs": [
    {
     "name": "stdout",
     "output_type": "stream",
     "text": [
      "{1: 1, 2: 1, 3: 2, 4: 1, 5: 1, 6: 1}\n"
     ]
    }
   ],
   "source": [
    "def find_occurrences(a):\n",
    "    b = {}\n",
    "    for i in a :\n",
    "        if i in b :\n",
    "            b[i] += 1\n",
    "        else :\n",
    "            b[i] = 1\n",
    "    return b \n",
    "a = (1,2,3,3,4,5,6)\n",
    "result = find_occurrences(a)\n",
    "print(result)"
   ]
  },
  {
   "cell_type": "markdown",
   "id": "8fbc9343-9914-458c-adca-2a21b7cc45c4",
   "metadata": {},
   "source": [
    "5. Find the index of the first occurrence of an element in a tuple."
   ]
  },
  {
   "cell_type": "code",
   "execution_count": 16,
   "id": "9b710bca-71fd-4155-8931-91bdc5949e5f",
   "metadata": {},
   "outputs": [
    {
     "name": "stdout",
     "output_type": "stream",
     "text": [
      "{1: 0, 2: 3, 3: 4, 4: 6, 5: 8, 6: 9}\n"
     ]
    }
   ],
   "source": [
    "def find_first_occurrence(n):\n",
    "    b = {}\n",
    "    for i in a :\n",
    "        if i in b :\n",
    "            pass\n",
    "        else :\n",
    "            b[i] = a.index(i)\n",
    "    return b \n",
    "a = (1,1,1,2,3,3,4,2,5,6,4)\n",
    "result = find_first_occurrence(a)\n",
    "print(result)"
   ]
  },
  {
   "cell_type": "markdown",
   "id": "0060bcf7-7559-43aa-a9d4-987b15a2a7d3",
   "metadata": {},
   "source": [
    "6. Check if an element exists in a tuple."
   ]
  },
  {
   "cell_type": "code",
   "execution_count": 18,
   "id": "ebf0b4ae-4d6f-4cd7-9741-cd58bb55f14a",
   "metadata": {},
   "outputs": [
    {
     "name": "stdout",
     "output_type": "stream",
     "text": [
      "True\n"
     ]
    }
   ],
   "source": [
    "def check_element_exist(n,j):\n",
    "    if n in j :\n",
    "        return True\n",
    "    else:\n",
    "        return False\n",
    "j = (1,2,3,4,5)\n",
    "n = 1\n",
    "print(check_element_exist(n,j))"
   ]
  },
  {
   "cell_type": "markdown",
   "id": "9f35c715-7c91-448c-aee4-767befc83b94",
   "metadata": {},
   "source": [
    "7. Convert a tuple to a list."
   ]
  },
  {
   "cell_type": "code",
   "execution_count": 19,
   "id": "4555220f-b6cf-4c2c-8eaa-9dda1d97291c",
   "metadata": {},
   "outputs": [
    {
     "data": {
      "text/plain": [
       "[1, 2, 4, 5]"
      ]
     },
     "execution_count": 19,
     "metadata": {},
     "output_type": "execute_result"
    }
   ],
   "source": [
    "tuple1 = (1,2,4,5)\n",
    "list(tuple1)"
   ]
  },
  {
   "cell_type": "markdown",
   "id": "5ad8b77f-7ee6-4d30-8162-3cc229213f70",
   "metadata": {},
   "source": [
    "8. Convert a list to a tuple."
   ]
  },
  {
   "cell_type": "code",
   "execution_count": 21,
   "id": "4aa955d3-cc4d-49d0-9494-18688ca078d4",
   "metadata": {},
   "outputs": [
    {
     "data": {
      "text/plain": [
       "(1, 2, 4, 5)"
      ]
     },
     "execution_count": 21,
     "metadata": {},
     "output_type": "execute_result"
    }
   ],
   "source": [
    "list1 = [1,2,4,5]\n",
    "tuple(list1)"
   ]
  },
  {
   "cell_type": "markdown",
   "id": "1d51506b-31b8-478a-824a-ab990681186c",
   "metadata": {},
   "source": [
    "9. Unpack the elements of a tuple into variables."
   ]
  },
  {
   "cell_type": "code",
   "execution_count": 28,
   "id": "7b282b3c-1764-41ea-9769-94e558e781e9",
   "metadata": {},
   "outputs": [
    {
     "name": "stdout",
     "output_type": "stream",
     "text": [
      "banana\n",
      "Orange\n",
      "['apple', 'strawberry']\n"
     ]
    }
   ],
   "source": [
    "tuplE = (\"banana\",\"Orange\",\"apple\",\"strawberry\")\n",
    "a, b, *c = tuplE\n",
    "print(a)\n",
    "print(b)\n",
    "print(c)"
   ]
  },
  {
   "cell_type": "markdown",
   "id": "bcc12b4d-aeb2-4adb-a195-d2cf7ee91c68",
   "metadata": {},
   "source": [
    "10. Create a tuple of even numbers from 1 to 10."
   ]
  },
  {
   "cell_type": "code",
   "execution_count": 30,
   "id": "d8b84c2e-d0d3-4e6a-a438-ad1cd478a171",
   "metadata": {},
   "outputs": [
    {
     "name": "stdout",
     "output_type": "stream",
     "text": [
      "(2, 4, 6, 8, 10)\n"
     ]
    }
   ],
   "source": [
    "def tuple_even(n):\n",
    "    a = []\n",
    "    for i in range(1,n+1) :\n",
    "        if i % 2 == 0 :\n",
    "            a.append(i)\n",
    "    return a\n",
    "n = 10\n",
    "print(tuple(tuple_even(n)))"
   ]
  },
  {
   "cell_type": "markdown",
   "id": "abe382bc-fc1e-4f3b-b925-169a1721cf10",
   "metadata": {},
   "source": [
    "11. Create a tuple of odd numbers from 1 to 10."
   ]
  },
  {
   "cell_type": "code",
   "execution_count": 1,
   "id": "e2bdbb6c-5bfb-43c2-88e1-e54a5116e477",
   "metadata": {},
   "outputs": [
    {
     "name": "stdout",
     "output_type": "stream",
     "text": [
      "[1, 3, 5, 7, 9]\n"
     ]
    }
   ],
   "source": [
    "def odd_number(n):\n",
    "  a = []\n",
    "  for i in range(1,n+1):\n",
    "    if i % 2 != 0 :\n",
    "      a.append(i)\n",
    "  return a\n",
    "n = 10\n",
    "\n",
    "print(odd_number(n))"
   ]
  },
  {
   "cell_type": "markdown",
   "id": "e062dad4-f0e5-4cc7-8668-191e1373fb8d",
   "metadata": {},
   "source": [
    "12. Concatenate two tuples."
   ]
  },
  {
   "cell_type": "code",
   "execution_count": 2,
   "id": "b3e86f20-f608-45c5-af18-3fc2236c1d15",
   "metadata": {},
   "outputs": [
    {
     "name": "stdout",
     "output_type": "stream",
     "text": [
      "(1, 2, 3, 4, 5, 6, 7, 8, 9, 10)\n"
     ]
    }
   ],
   "source": [
    "a = (1,2,3,4,5)\n",
    "b = (6,7,8,9,10)\n",
    "x = a + b\n",
    "print(x)"
   ]
  },
  {
   "cell_type": "markdown",
   "id": "f532523d-2a87-4d3a-9599-6a9a8bdc4c42",
   "metadata": {},
   "source": [
    "13. Repeat a tuple three times."
   ]
  },
  {
   "cell_type": "code",
   "execution_count": 3,
   "id": "640ccf75-58e4-4aca-9125-0f68604411b8",
   "metadata": {},
   "outputs": [
    {
     "name": "stdout",
     "output_type": "stream",
     "text": [
      "(1, 2, 3, 1, 2, 3, 1, 2, 3)\n"
     ]
    }
   ],
   "source": [
    "a = (1,2,3)\n",
    "x = a * 3\n",
    "print(x)"
   ]
  },
  {
   "cell_type": "markdown",
   "id": "4441112b-635a-426b-bb49-44f89ce7db85",
   "metadata": {},
   "source": [
    "14. Check if a tuple is empty."
   ]
  },
  {
   "cell_type": "code",
   "execution_count": 4,
   "id": "b1ac59d4-2f6c-457a-8ed3-0f4f55b13483",
   "metadata": {},
   "outputs": [
    {
     "name": "stdout",
     "output_type": "stream",
     "text": [
      "True\n"
     ]
    }
   ],
   "source": [
    "a = ()\n",
    "if len(a) == 0:\n",
    "  print(True)\n",
    "else :\n",
    "  print(False)"
   ]
  },
  {
   "cell_type": "markdown",
   "id": "b35c302a-742e-40e0-ba02-ce377b74ec3e",
   "metadata": {},
   "source": [
    "15. Create a nested tuple."
   ]
  },
  {
   "cell_type": "code",
   "execution_count": 5,
   "id": "cbff7e73-a136-4b55-af37-2355ac802f51",
   "metadata": {},
   "outputs": [
    {
     "name": "stdout",
     "output_type": "stream",
     "text": [
      "(1, 2, 3, (4, 5, 6, 7))\n"
     ]
    }
   ],
   "source": [
    "a = (1,2,3,(4,5,6,7))\n",
    "print(a)"
   ]
  },
  {
   "cell_type": "markdown",
   "id": "4bf3f04b-964e-46e8-a52e-0b977bd8781b",
   "metadata": {},
   "source": [
    "16. Access the first element of a nested tuple."
   ]
  },
  {
   "cell_type": "code",
   "execution_count": 6,
   "id": "e5509ae6-74f9-4d96-9122-c668dfa2b5e8",
   "metadata": {},
   "outputs": [
    {
     "data": {
      "text/plain": [
       "6"
      ]
     },
     "execution_count": 6,
     "metadata": {},
     "output_type": "execute_result"
    }
   ],
   "source": [
    "a = (1,2,3,4,5,(6,7,8,9,10))\n",
    "a[5][0]"
   ]
  },
  {
   "cell_type": "markdown",
   "id": "501c659f-e254-433f-a044-d2cc05e094c2",
   "metadata": {},
   "source": [
    "17. Create a tuple with a single element."
   ]
  },
  {
   "cell_type": "code",
   "execution_count": 7,
   "id": "bff327bc-55f7-4f5b-b0e7-59ef9ead7b94",
   "metadata": {},
   "outputs": [
    {
     "name": "stdout",
     "output_type": "stream",
     "text": [
      "(1,)\n"
     ]
    },
    {
     "data": {
      "text/plain": [
       "tuple"
      ]
     },
     "execution_count": 7,
     "metadata": {},
     "output_type": "execute_result"
    }
   ],
   "source": [
    "a = (1,)\n",
    "print(a)\n",
    "type(a)"
   ]
  },
  {
   "cell_type": "markdown",
   "id": "2d87f585-6777-4907-9e14-4b0ffdbb3a3a",
   "metadata": {},
   "source": [
    "18. Compare two tuples."
   ]
  },
  {
   "cell_type": "code",
   "execution_count": 8,
   "id": "b9388755-948a-4da3-bcdf-2955ec5ec99d",
   "metadata": {},
   "outputs": [
    {
     "name": "stdout",
     "output_type": "stream",
     "text": [
      "Tuples are not equal\n"
     ]
    }
   ],
   "source": [
    "a = (1,2,3,4,5)\n",
    "b = (6,7,8,9,10)\n",
    "if a == b :\n",
    "  print(\"tuples are equal\")\n",
    "else:\n",
    "  print(\"Tuples are not equal\")"
   ]
  },
  {
   "cell_type": "markdown",
   "id": "5a7cd8fe-b83c-4e86-adc4-20329a58a2c2",
   "metadata": {},
   "source": [
    "19. Delete a tuple."
   ]
  },
  {
   "cell_type": "code",
   "execution_count": 9,
   "id": "397fb98a-4981-417e-a01f-bf366586e50d",
   "metadata": {},
   "outputs": [
    {
     "name": "stdout",
     "output_type": "stream",
     "text": [
      "name 'a' is not defined\n"
     ]
    }
   ],
   "source": [
    "a = (1,2,3,4,5)\n",
    "del a\n",
    "try:\n",
    "  print(a)\n",
    "except Exception as e:\n",
    "  print(e)"
   ]
  },
  {
   "cell_type": "markdown",
   "id": "0cec8cba-53be-4305-b507-806e3643b28f",
   "metadata": {},
   "source": [
    "20. Slice a tuple."
   ]
  },
  {
   "cell_type": "code",
   "execution_count": 10,
   "id": "2585019f-87cc-47a0-9cc5-3526e921660a",
   "metadata": {},
   "outputs": [
    {
     "name": "stdout",
     "output_type": "stream",
     "text": [
      "(1, 2, 3, 4, 5) (6, 7, 8, 9, 10)\n"
     ]
    }
   ],
   "source": [
    "a = (1,2,3,4,5,6,7,8,9,10)\n",
    "print(a[0:5],a[5:])"
   ]
  },
  {
   "cell_type": "markdown",
   "id": "6f09d02d-b1b1-47f6-bc99-0c904fc842c9",
   "metadata": {},
   "source": [
    "21. Find the maximum value in a tuple."
   ]
  },
  {
   "cell_type": "code",
   "execution_count": 11,
   "id": "037fe2b7-5c6e-4eb5-8cda-a8c1170025f5",
   "metadata": {},
   "outputs": [
    {
     "name": "stdout",
     "output_type": "stream",
     "text": [
      "5\n"
     ]
    }
   ],
   "source": [
    "def find_max(n):\n",
    "  max = n[0]\n",
    "  for i in n[1:] :\n",
    "    if i > max:\n",
    "      max = i\n",
    "  return max\n",
    "n = (1,2,3,4,5)\n",
    "print(find_max(n))"
   ]
  },
  {
   "cell_type": "markdown",
   "id": "4a69ced2-87c6-420f-a733-c53c455d52a3",
   "metadata": {},
   "source": [
    "22. Find the minimum value in a tuple."
   ]
  },
  {
   "cell_type": "code",
   "execution_count": 12,
   "id": "37cd0496-713c-4afe-b384-13bd6f835cd6",
   "metadata": {},
   "outputs": [
    {
     "name": "stdout",
     "output_type": "stream",
     "text": [
      "1\n"
     ]
    }
   ],
   "source": [
    "def find_min(n):\n",
    "  min = n[0]\n",
    "  for i in n[1:] :\n",
    "    if i < min:\n",
    "      min = i\n",
    "  return min\n",
    "n = (1,2,3,4,5)\n",
    "print(find_min(n))"
   ]
  },
  {
   "cell_type": "markdown",
   "id": "125fee4b-e004-4116-be08-9370c70d5f41",
   "metadata": {},
   "source": [
    "23. Convert a string to a tuple of characters."
   ]
  },
  {
   "cell_type": "code",
   "execution_count": 16,
   "id": "90dfebdf-6fdb-424b-9f31-1814f08c1e3d",
   "metadata": {},
   "outputs": [
    {
     "name": "stdout",
     "output_type": "stream",
     "text": [
      "('M', 'y', ' ', 'n', 'a', 'm', 'e', ' ', 'i', 's', ' ', 'U', 'd', 'a', 'y', 'a')\n"
     ]
    }
   ],
   "source": [
    "a = \"My name is Udaya\"\n",
    "b = tuple(a)\n",
    "print(b)"
   ]
  },
  {
   "cell_type": "markdown",
   "id": "f20f3dc0-1683-47a6-b739-a601e46ed3a3",
   "metadata": {},
   "source": [
    "24. Convert a tuple of characters to a string."
   ]
  },
  {
   "cell_type": "code",
   "execution_count": 17,
   "id": "bb9286cf-8a00-4b20-ba7b-742f47c8be31",
   "metadata": {},
   "outputs": [
    {
     "name": "stdout",
     "output_type": "stream",
     "text": [
      "My name is Udaya\n"
     ]
    }
   ],
   "source": [
    "a = (('M', 'y', ' ', 'n', 'a', 'm', 'e', ' ', 'i', 's', ' ', 'U', 'd', 'a', 'y', 'a'))\n",
    "b = str(\",\".join(a).replace(',',''))\n",
    "print(b)"
   ]
  },
  {
   "cell_type": "markdown",
   "id": "d76b2f0b-f084-4700-9219-43daadcaf055",
   "metadata": {},
   "source": [
    "25. Create a tuple from multiple data types."
   ]
  },
  {
   "cell_type": "code",
   "execution_count": 18,
   "id": "e269c5af-0a52-4b5e-ae49-902eb00e9ba7",
   "metadata": {},
   "outputs": [
    {
     "name": "stdout",
     "output_type": "stream",
     "text": [
      "<class 'int'>1,<class 'str'>hello,<class 'float'>2.0\n"
     ]
    }
   ],
   "source": [
    "a = (1,\"hello\",2.00)\n",
    "b = type(a)\n",
    "print(f'{type(a[0])}{a[0]},{type(a[1])}{a[1]},{type(a[2])}{a[2]}')"
   ]
  },
  {
   "cell_type": "markdown",
   "id": "85ce4732-9b40-4a25-bc32-5c9a591cb16d",
   "metadata": {},
   "source": [
    "26. Check if two tuples are identical."
   ]
  },
  {
   "cell_type": "code",
   "execution_count": 19,
   "id": "fae16992-2e7f-432f-8d6c-b3790b7c6223",
   "metadata": {},
   "outputs": [
    {
     "name": "stdout",
     "output_type": "stream",
     "text": [
      "Tuples are not identical\n"
     ]
    }
   ],
   "source": [
    "a = (1,2,3,4,5)\n",
    "b = (6,7,8,9,10)\n",
    "if a == b :\n",
    "  print(\"Two tuples are identical\")\n",
    "else :\n",
    "  print(\"Tuples are not identical\")"
   ]
  },
  {
   "cell_type": "markdown",
   "id": "3d2afc00-1d70-4590-885e-bc883170428a",
   "metadata": {},
   "source": [
    "27. Sort the elements of a tuple."
   ]
  },
  {
   "cell_type": "code",
   "execution_count": 20,
   "id": "7f54992a-3023-456f-a3ec-f6094b506ddd",
   "metadata": {},
   "outputs": [
    {
     "name": "stdout",
     "output_type": "stream",
     "text": [
      "(1, 2, 3, 6, 8, 8, 13, 31, 41, 41, 64, 87, 94, 94, 97)\n"
     ]
    }
   ],
   "source": [
    "def sort_tuple(arr1):\n",
    "  arr = list(arr1)\n",
    "  for i in range(len(arr)-1):\n",
    "    for j in range(len(arr)-i-1):\n",
    "      if arr[j] > arr[j+1]:\n",
    "        arr[j],arr[j+1] = arr[j+1],arr[j]\n",
    "  return tuple(arr)\n",
    "arr1 = (13,64,8,94,6,41,8,41,87,97,94,31,3,1,2)\n",
    "print(sort_tuple(arr1))"
   ]
  },
  {
   "cell_type": "markdown",
   "id": "8922304e-1a36-4361-8c22-5883f42ac94b",
   "metadata": {},
   "source": [
    "28. Convert a tuple of integers to a tuple of strings."
   ]
  },
  {
   "cell_type": "code",
   "execution_count": 33,
   "id": "2a5366d6-0c55-413b-94f7-3e60da337a89",
   "metadata": {},
   "outputs": [
    {
     "name": "stdout",
     "output_type": "stream",
     "text": [
      "('1', '2', '3', '4', '5')\n"
     ]
    }
   ],
   "source": [
    "tuple_int = (1,2,3,4,5)\n",
    "tuple_string = tuple(str(i) for i in tuple_int)\n",
    "print(tuple_string)"
   ]
  },
  {
   "cell_type": "markdown",
   "id": "82934b65-bcb5-4be7-869e-0d0ee528ca54",
   "metadata": {},
   "source": [
    "29. Convert a tuple of strings to a tuple of integers."
   ]
  },
  {
   "cell_type": "code",
   "execution_count": 34,
   "id": "bc5b86a2-ede9-46bb-b433-2fd0b45db464",
   "metadata": {},
   "outputs": [
    {
     "name": "stdout",
     "output_type": "stream",
     "text": [
      "(1, 2, 3, 4, 5)\n"
     ]
    }
   ],
   "source": [
    "tuple_string = ('1','2','3','4','5')\n",
    "tuple_int = tuple(int(i) for i in tuple_string)\n",
    "print(tuple_int)"
   ]
  },
  {
   "cell_type": "markdown",
   "id": "f2bd1683-96e7-46da-9e3b-e4347e85c21e",
   "metadata": {},
   "source": [
    "30. Merge two tuples."
   ]
  },
  {
   "cell_type": "code",
   "execution_count": 35,
   "id": "1487941b-7c9c-4687-879a-812e7755736c",
   "metadata": {},
   "outputs": [
    {
     "name": "stdout",
     "output_type": "stream",
     "text": [
      "(1, 2, 3, 4, 5, 6, 7, 8, 9, 10)\n"
     ]
    }
   ],
   "source": [
    "a = (1,2,3,4,5)\n",
    "b = (6,7,8,9,10)\n",
    "c = a + b\n",
    "print(c)"
   ]
  },
  {
   "cell_type": "markdown",
   "id": "54bf7bb3-2b5f-4d4c-aca3-ec26962f7e34",
   "metadata": {},
   "source": [
    "31. Flatten a nested tuple."
   ]
  },
  {
   "cell_type": "code",
   "execution_count": 36,
   "id": "446c19d7-2049-4687-b6a5-65ac6616efa5",
   "metadata": {},
   "outputs": [
    {
     "name": "stdout",
     "output_type": "stream",
     "text": [
      "(1, 2, 3, 4, 5, 6, 7)\n"
     ]
    }
   ],
   "source": [
    "def tuple_1(n):\n",
    "    lis = []\n",
    "    for i in n :\n",
    "        if type(i) == tuple:\n",
    "            lis.extend(tuple_1(i))\n",
    "        else:\n",
    "            lis.append(i)\n",
    "    return tuple(lis)\n",
    "a =((1, 2, (3, 4)), 5, (6, 7))\n",
    "print(tuple_1(a))"
   ]
  },
  {
   "cell_type": "markdown",
   "id": "3ef38854-2429-4d9d-9071-2b30c3febc86",
   "metadata": {},
   "source": [
    "32. Create a tuple of the first 5 prime numbers."
   ]
  },
  {
   "cell_type": "code",
   "execution_count": 40,
   "id": "dc992b1d-314d-4459-b208-df861e68df2e",
   "metadata": {},
   "outputs": [
    {
     "name": "stdout",
     "output_type": "stream",
     "text": [
      "(2, 3, 5, 7, 11, 13, 17, 19, 23, 29, 31, 37, 41, 43, 47)\n"
     ]
    }
   ],
   "source": [
    "def is_prime(num):\n",
    "    if num < 2:\n",
    "        return False\n",
    "    for i in range(2, int(num ** 0.5) + 1):\n",
    "        if num % i == 0:\n",
    "            return False\n",
    "    return True\n",
    "\n",
    "prime_numbers = tuple(num for num in range(2, 51) if is_prime(num))\n",
    "\n",
    "print(prime_numbers)"
   ]
  },
  {
   "cell_type": "markdown",
   "id": "650a514b-2fc6-49cd-bc06-2841e6aa0902",
   "metadata": {},
   "source": [
    "33. Check if a tuple is a palindrome."
   ]
  },
  {
   "cell_type": "code",
   "execution_count": 50,
   "id": "9e2394a5-1cec-4be3-be19-70a72c6c08de",
   "metadata": {},
   "outputs": [
    {
     "name": "stdout",
     "output_type": "stream",
     "text": [
      "not palindrome\n"
     ]
    }
   ],
   "source": [
    "def check_palidrome(n):\n",
    "    if n[::-1] == n:\n",
    "        return \"its palindrome\"\n",
    "    else:\n",
    "        return \"not palindrome\"\n",
    "n = (1,2,2,5)\n",
    "print(check_palidrome(n))"
   ]
  },
  {
   "cell_type": "markdown",
   "id": "db20df38-77fa-40ed-9000-9ccc24336071",
   "metadata": {},
   "source": [
    "34. Create a tuple of squares of numbers from 1 to 5."
   ]
  },
  {
   "cell_type": "code",
   "execution_count": 51,
   "id": "2695b1e2-e458-47fe-bd4f-d20b57e30fea",
   "metadata": {},
   "outputs": [
    {
     "name": "stdout",
     "output_type": "stream",
     "text": [
      "(1, 4, 9, 16, 25)\n"
     ]
    }
   ],
   "source": [
    "def square_numbers(n):\n",
    "    lis = []\n",
    "    for i in n:\n",
    "        lis.append(i ** 2)\n",
    "    return tuple(lis)\n",
    "n = (1,2,3,4,5)\n",
    "print(square_numbers(n))"
   ]
  },
  {
   "cell_type": "markdown",
   "id": "fbb18331-b32b-4987-8f54-3ba8d49b9ab9",
   "metadata": {},
   "source": [
    "35. Filter out all even numbers from a tuple."
   ]
  },
  {
   "cell_type": "code",
   "execution_count": 65,
   "id": "f3ea8707-547c-4903-8508-f2a767e99d17",
   "metadata": {},
   "outputs": [
    {
     "name": "stdout",
     "output_type": "stream",
     "text": [
      "(2, 4, 6, 8, 10)\n"
     ]
    }
   ],
   "source": [
    "n = (1,2,3,4,5,6,7,8,9,10)\n",
    "filter_even = tuple(i for i in n if i % 2 == 0)\n",
    "print(filter_even)"
   ]
  },
  {
   "cell_type": "markdown",
   "id": "248cd302-a8fe-4642-8c96-3de1d9489dda",
   "metadata": {},
   "source": [
    "36. Multiply all elements in a tuple by 2."
   ]
  },
  {
   "cell_type": "code",
   "execution_count": 58,
   "id": "4c2420a4-1fbb-4531-9679-3687128aed3d",
   "metadata": {},
   "outputs": [
    {
     "name": "stdout",
     "output_type": "stream",
     "text": [
      "(2, 4, 6, 8, 10)\n"
     ]
    }
   ],
   "source": [
    "n = (1,2,3,4,5)\n",
    "multi_tuple = tuple(i * 2 for i in n)\n",
    "\n",
    "print(multi_tuple)"
   ]
  },
  {
   "cell_type": "markdown",
   "id": "bf6c5494-e6f6-40ff-92fd-e1554d472726",
   "metadata": {},
   "source": [
    "37. Create a tuple of random numbers."
   ]
  },
  {
   "cell_type": "code",
   "execution_count": 72,
   "id": "457f154d-413f-4561-8f72-f402915bc829",
   "metadata": {},
   "outputs": [
    {
     "name": "stdout",
     "output_type": "stream",
     "text": [
      "(2, 4, 4, 7, 1, 2, 5, 8, 6, 5)\n"
     ]
    }
   ],
   "source": [
    "import random\n",
    "random_tuple = tuple(random.randint(1,10) for i in range(10))\n",
    "print(random_tuple)"
   ]
  },
  {
   "cell_type": "markdown",
   "id": "166a32af-f9a7-4d75-881c-7abc1deaeec1",
   "metadata": {},
   "source": [
    "38. Check if a tuple is sorted."
   ]
  },
  {
   "cell_type": "code",
   "execution_count": 116,
   "id": "cff7c219-96a9-459c-bfaf-945523e53305",
   "metadata": {},
   "outputs": [
    {
     "name": "stdout",
     "output_type": "stream",
     "text": [
      "sorted\n"
     ]
    }
   ],
   "source": [
    "def check_sorted(n):\n",
    "    lis1 = list(n)  \n",
    "    lis = list(n)\n",
    "    lis.sort()\n",
    "    if lis == lis1 :\n",
    "        return \"sorted\"\n",
    "    else:\n",
    "        return \"not sorted\"\n",
    "n = (1,2,3,4,5,6)\n",
    "print(check_sorted(n))"
   ]
  },
  {
   "cell_type": "markdown",
   "id": "aa576ebb-1cfb-4bc5-bb21-30f83ef1cc15",
   "metadata": {},
   "source": [
    "39. Rotate a tuple to the left by `n` positions."
   ]
  },
  {
   "cell_type": "code",
   "execution_count": 146,
   "id": "d761c876-55ca-4414-9c11-e4266941972c",
   "metadata": {},
   "outputs": [
    {
     "name": "stdout",
     "output_type": "stream",
     "text": [
      "[2, 3, 4, 5, 1]\n"
     ]
    }
   ],
   "source": [
    "def rotate_position_left(arr,position):\n",
    "    lis = list(arr)\n",
    "    temp,temp1 = lis[:position],lis[position:]\n",
    "    result = temp1 + temp\n",
    "    return result\n",
    "    \n",
    "arr = (1,2,3,4,5)    \n",
    "position = 1\n",
    "print(rotate_position_left(arr,position))"
   ]
  },
  {
   "cell_type": "markdown",
   "id": "4b858fed-78f2-4634-a8dc-2d25cf647024",
   "metadata": {},
   "source": [
    "40. Rotate a tuple to the right by `n` positions."
   ]
  },
  {
   "cell_type": "code",
   "execution_count": 149,
   "id": "ecf1a94d-edf4-4021-8fbd-1b0981132816",
   "metadata": {},
   "outputs": [
    {
     "name": "stdout",
     "output_type": "stream",
     "text": [
      "[5, 1, 2, 3, 4]\n"
     ]
    }
   ],
   "source": [
    "def rotate_position_right(arr,position):\n",
    "    lis = list(arr)\n",
    "    temp,temp1 = lis[-position:],lis[:-position]\n",
    "    result = temp + temp1\n",
    "    return result\n",
    "    \n",
    "arr = (1,2,3,4,5)    \n",
    "position = 1\n",
    "print(rotate_position_right(arr,position))"
   ]
  },
  {
   "cell_type": "markdown",
   "id": "b7ed2898-702a-4563-a63b-efb12073ab93",
   "metadata": {},
   "source": [
    "41. Create a tuple of the first 5 Fibonacci numbers."
   ]
  },
  {
   "cell_type": "code",
   "execution_count": 178,
   "id": "d0aaa425-088f-454b-84fc-b880944e58a4",
   "metadata": {},
   "outputs": [
    {
     "name": "stdout",
     "output_type": "stream",
     "text": [
      "(0, 1, 1, 2, 3)\n"
     ]
    }
   ],
   "source": [
    "def fibonacci(n):\n",
    "    n = n - 2\n",
    "    a = 0\n",
    "    b = 1\n",
    "    arr = [0,1]\n",
    "    for i in range(n):\n",
    "        arr.append(arr[a] + arr [b])\n",
    "        a = a + 1\n",
    "        b = b +1\n",
    "    return tuple(arr)  \n",
    "n = (5)\n",
    "print(fibonacci(n))"
   ]
  },
  {
   "cell_type": "markdown",
   "id": "dcb18bca-d3c1-4691-8118-cd36c64990e7",
   "metadata": {},
   "source": [
    "42. Create a tuple from user input."
   ]
  },
  {
   "cell_type": "code",
   "execution_count": 205,
   "id": "ea661d23-d035-4119-9ab1-fda2e2154de9",
   "metadata": {},
   "outputs": [
    {
     "name": "stdin",
     "output_type": "stream",
     "text": [
      "enter any number : 123\n"
     ]
    },
    {
     "name": "stdout",
     "output_type": "stream",
     "text": [
      "(1, 2, 3)\n"
     ]
    }
   ],
   "source": [
    "tuple_input = tuple(map(int,input(\"enter any number :\")))\n",
    "print(tuple_input)"
   ]
  },
  {
   "cell_type": "markdown",
   "id": "9fb6e936-9e9f-43da-8715-17ec621196bd",
   "metadata": {},
   "source": [
    "43. Swap two elements in a tuple."
   ]
  },
  {
   "cell_type": "code",
   "execution_count": 218,
   "id": "4abe12e2-61d9-4ca5-a730-1f11cc2e1354",
   "metadata": {},
   "outputs": [
    {
     "name": "stdout",
     "output_type": "stream",
     "text": [
      "[2, 1, 3, 4, 5]\n"
     ]
    }
   ],
   "source": [
    "def swap_tuple(tup):\n",
    "    arr = list(tup)\n",
    "    arr[0], arr[1] = arr[1], arr[0]\n",
    "    return arr\n",
    "tup = (1,2,3,4,5)\n",
    "print(swap_tuple(tup))"
   ]
  },
  {
   "cell_type": "markdown",
   "id": "7310763e-75b0-4a26-8105-2f3ab46ffd08",
   "metadata": {},
   "source": [
    "44. Reverse the elements of a tuple."
   ]
  },
  {
   "cell_type": "code",
   "execution_count": 219,
   "id": "38b99db0-3a50-44c1-8bfe-4203623b2730",
   "metadata": {},
   "outputs": [
    {
     "name": "stdout",
     "output_type": "stream",
     "text": [
      "(5, 4, 3, 2, 1)\n"
     ]
    }
   ],
   "source": [
    "def reverse_tuple(tup):\n",
    "    a = list(tup)\n",
    "    result = a[::-1]\n",
    "    return tuple(result)\n",
    "tup = (1,2,3,4,5,)\n",
    "print(reverse_tuple(tup))"
   ]
  },
  {
   "cell_type": "markdown",
   "id": "4d1310c7-e713-4950-832b-60d735583603",
   "metadata": {},
   "source": [
    "45. Create a tuple of the first `n` powers of 2."
   ]
  },
  {
   "cell_type": "code",
   "execution_count": 221,
   "id": "b5d2c8ec-b8f7-4f0f-b97c-93d0adba4141",
   "metadata": {},
   "outputs": [
    {
     "name": "stdout",
     "output_type": "stream",
     "text": [
      "(1, 2, 4, 8, 16, 32)\n"
     ]
    }
   ],
   "source": [
    "def power_2(n):\n",
    "    result = []\n",
    "    for i in range(n+1):\n",
    "        result.append(2 ** i)\n",
    "    return tuple(result)\n",
    "n = 5\n",
    "print(power_2(n))"
   ]
  },
  {
   "cell_type": "markdown",
   "id": "9a9526aa-3145-49cb-abe3-03495758115d",
   "metadata": {},
   "source": [
    "46. Find the longest string in a tuple of strings."
   ]
  },
  {
   "cell_type": "code",
   "execution_count": 231,
   "id": "840b3be5-b303-4705-9c7a-4acfcc71e0eb",
   "metadata": {},
   "outputs": [
    {
     "name": "stdout",
     "output_type": "stream",
     "text": [
      "banana\n"
     ]
    }
   ],
   "source": [
    "def longest_tuple(tup):\n",
    "    result = tup[0]\n",
    "    for i in tup:\n",
    "        if len(i) > len(result):\n",
    "            result = i \n",
    "    return result\n",
    "tup = (\"apple\",\"banana\",\"orange\")\n",
    "print(longest_tuple(tup))"
   ]
  },
  {
   "cell_type": "markdown",
   "id": "bb468b72-1fa2-47df-9035-85caf5d1db1b",
   "metadata": {},
   "source": [
    "47. Find the shortest string in a tuple of strings."
   ]
  },
  {
   "cell_type": "code",
   "execution_count": 232,
   "id": "8c9b335a-555b-4009-845c-b6cb6a922d92",
   "metadata": {},
   "outputs": [
    {
     "name": "stdout",
     "output_type": "stream",
     "text": [
      "apple\n"
     ]
    }
   ],
   "source": [
    "def shortest_tuple(tup):\n",
    "    result = tup[0]\n",
    "    for i in tup:\n",
    "        if len(i) < len(result):\n",
    "            result = i \n",
    "    return result\n",
    "tup = (\"apple\",\"banana\",\"orange\")\n",
    "print(shortest_tuple(tup))"
   ]
  },
  {
   "cell_type": "markdown",
   "id": "94121b1f-d617-498a-a225-7a8019a75b1f",
   "metadata": {},
   "source": [
    "48. Create a tuple of the first `n` triangular numbers."
   ]
  },
  {
   "cell_type": "code",
   "execution_count": 235,
   "id": "6eefdcf6-8168-4b6d-a801-47439c60457b",
   "metadata": {},
   "outputs": [
    {
     "name": "stdout",
     "output_type": "stream",
     "text": [
      "[1, 3, 6, 10, 15]\n"
     ]
    }
   ],
   "source": [
    "def triangular(n):\n",
    "    result = []\n",
    "    a = 0\n",
    "    for i in range(1,n+1) :\n",
    "        a = a + i \n",
    "        result.append(a)\n",
    "    return result\n",
    "n = 5\n",
    "print(triangular(n))"
   ]
  },
  {
   "cell_type": "markdown",
   "id": "d757141c-39d0-4923-a50d-4934396684de",
   "metadata": {},
   "source": [
    "49. Check if a tuple contains another tuple as a subsequence."
   ]
  },
  {
   "cell_type": "code",
   "execution_count": 260,
   "id": "f2e85538-34cb-4aca-91c8-e2143ad8ddeb",
   "metadata": {},
   "outputs": [
    {
     "name": "stdout",
     "output_type": "stream",
     "text": [
      "subseqeunce\n"
     ]
    }
   ],
   "source": [
    "def issubsequence(tup1 , tup2):\n",
    "    lis = []\n",
    "    for i in tup2:\n",
    "        if i in tup1 :\n",
    "            lis.append(1)\n",
    "        else:\n",
    "            lis.append(0)\n",
    "    if 0 in lis:\n",
    "        return \"not subsequence\"\n",
    "    else:\n",
    "        return \"subseqeunce\"\n",
    "tup1 = (1,2,3,4,5)\n",
    "tup2 = (2,3)\n",
    "print(issubsequence(tup1,tup2))"
   ]
  },
  {
   "cell_type": "markdown",
   "id": "fc076e81-319c-4f11-bc4d-116e6422587e",
   "metadata": {},
   "source": [
    "50. Create a tuple of alternating 1s and 0s of length `n`."
   ]
  },
  {
   "cell_type": "code",
   "execution_count": 1,
   "id": "14238e85-ce11-450e-b403-6a92f87443b9",
   "metadata": {},
   "outputs": [
    {
     "name": "stdout",
     "output_type": "stream",
     "text": [
      "(1, 0, 1, 0, 1)\n"
     ]
    }
   ],
   "source": [
    "def alternating(n):\n",
    "    a = (1,0) * n\n",
    "    return tuple(a[:n])\n",
    "n = 5\n",
    "print(alternating(n))"
   ]
  },
  {
   "cell_type": "markdown",
   "id": "3a7e0d72-d9bd-4a5f-b8c6-8665246d5d2e",
   "metadata": {},
   "source": [
    "Set Based Practice Problem :"
   ]
  },
  {
   "cell_type": "markdown",
   "id": "e88fe667-ef76-4ee3-a78b-b89b0c5b875e",
   "metadata": {},
   "source": [
    "1. Create a set with integers from 1 to 5."
   ]
  },
  {
   "cell_type": "code",
   "execution_count": 7,
   "id": "e894dea2-a41f-4210-8917-e999e04ae56b",
   "metadata": {},
   "outputs": [
    {
     "name": "stdout",
     "output_type": "stream",
     "text": [
      "{1, 2, 3, 4, 5}\n"
     ]
    }
   ],
   "source": [
    "n = range(1,6)\n",
    "set_number = set(i for i in n)\n",
    "print(set_number)"
   ]
  },
  {
   "cell_type": "markdown",
   "id": "33fbc018-8b55-4aa2-86c8-84ac30c02aa6",
   "metadata": {},
   "source": [
    "2. Add an element to a set."
   ]
  },
  {
   "cell_type": "code",
   "execution_count": 15,
   "id": "538d2919-8018-44a1-8993-15c4a79d1fdf",
   "metadata": {},
   "outputs": [
    {
     "name": "stdout",
     "output_type": "stream",
     "text": [
      "{1, 2, 3, 4, 5, 6}\n"
     ]
    }
   ],
   "source": [
    "set_element = {1,2,3,4,5}\n",
    "set_element.add(6)\n",
    "print(set_element)"
   ]
  },
  {
   "cell_type": "markdown",
   "id": "0597c3c9-e79e-4ac2-863d-b42f0c1e7709",
   "metadata": {},
   "source": [
    "3. Remove an element from a set."
   ]
  },
  {
   "cell_type": "code",
   "execution_count": 16,
   "id": "b6ab08f6-a96b-4f54-95c8-4439a6843e3a",
   "metadata": {},
   "outputs": [
    {
     "data": {
      "text/plain": [
       "{1, 3, 4, 5}"
      ]
     },
     "execution_count": 16,
     "metadata": {},
     "output_type": "execute_result"
    }
   ],
   "source": [
    "set_1 = {1,2,3,4,5}\n",
    "set_1.remove(2)\n",
    "set_1"
   ]
  },
  {
   "cell_type": "markdown",
   "id": "13c00332-1cd4-406b-9248-7b47e219a555",
   "metadata": {},
   "source": [
    "4. Check if an element exists in a set."
   ]
  },
  {
   "cell_type": "code",
   "execution_count": 24,
   "id": "12ce5519-4f36-4bd5-bb71-e5ec75a65bce",
   "metadata": {},
   "outputs": [
    {
     "name": "stdout",
     "output_type": "stream",
     "text": [
      "exist\n"
     ]
    }
   ],
   "source": [
    "def check_element(set_1,element):\n",
    "    for i in set_1:\n",
    "        if i == element :\n",
    "            return \"exist\"\n",
    "        else:\n",
    "            return \"e\"\n",
    "            \n",
    "set_1 = {1,2,3,4,5}\n",
    "element = 1\n",
    "print(check_element(set_1,element))"
   ]
  },
  {
   "cell_type": "markdown",
   "id": "1c874eba-5dee-4ae9-b8d0-651887b4acd2",
   "metadata": {},
   "source": [
    "5. Find the length of a set without using the `len()` function."
   ]
  },
  {
   "cell_type": "code",
   "execution_count": 30,
   "id": "15e78d97-33d8-4bfa-bed9-5935e0bc9f85",
   "metadata": {},
   "outputs": [
    {
     "name": "stdout",
     "output_type": "stream",
     "text": [
      "5\n"
     ]
    }
   ],
   "source": [
    "def find_length(n):\n",
    "    count = 0\n",
    "    for i in n :\n",
    "        count += 1\n",
    "    return count\n",
    "n = {1,2,3,4,5}\n",
    "print(find_length(n))"
   ]
  },
  {
   "cell_type": "markdown",
   "id": "1e27ece9-29de-417e-8f32-d7ebd4db227b",
   "metadata": {},
   "source": [
    "6. Clear all elements from a set."
   ]
  },
  {
   "cell_type": "code",
   "execution_count": 33,
   "id": "1c218f79-c05b-4c4e-9731-9fda9891983b",
   "metadata": {},
   "outputs": [
    {
     "data": {
      "text/plain": [
       "set()"
      ]
     },
     "execution_count": 33,
     "metadata": {},
     "output_type": "execute_result"
    }
   ],
   "source": [
    "set_1 = {1,2,3,4,5}\n",
    "set_1.clear()\n",
    "set_1"
   ]
  },
  {
   "cell_type": "markdown",
   "id": "bb42f653-e73a-4eb9-a12b-854e876d7c18",
   "metadata": {},
   "source": [
    "7. Create a set of even numbers from 1 to 10."
   ]
  },
  {
   "cell_type": "code",
   "execution_count": 39,
   "id": "19c82eab-15ec-4170-940c-3766ce4de305",
   "metadata": {},
   "outputs": [
    {
     "name": "stdout",
     "output_type": "stream",
     "text": [
      "{2, 4, 6, 8, 10}\n"
     ]
    }
   ],
   "source": [
    "n = 10\n",
    "set_even = {i for i in range(1,n+1) if i % 2 == 0}\n",
    "print(set_even)"
   ]
  },
  {
   "cell_type": "markdown",
   "id": "c346b5f4-d326-4d24-a1a1-1c013114fca2",
   "metadata": {},
   "source": [
    "8. Create a set of odd numbers from 1 to 10."
   ]
  },
  {
   "cell_type": "code",
   "execution_count": 40,
   "id": "338098cf-9679-4205-80ac-c81fd4cdbe0c",
   "metadata": {},
   "outputs": [
    {
     "name": "stdout",
     "output_type": "stream",
     "text": [
      "{1, 3, 5, 7, 9}\n"
     ]
    }
   ],
   "source": [
    "n = 10\n",
    "set_odd = {i for i in range(1,n+1) if i % 2 != 0}\n",
    "print(set_odd)"
   ]
  },
  {
   "cell_type": "markdown",
   "id": "874ffc35-9397-4223-8843-3c356529c4ef",
   "metadata": {},
   "source": [
    "9. Find the union of two sets."
   ]
  },
  {
   "cell_type": "code",
   "execution_count": 43,
   "id": "9b0de7b8-f85b-4de9-9897-7b75985f72b4",
   "metadata": {},
   "outputs": [
    {
     "name": "stdout",
     "output_type": "stream",
     "text": [
      "{1, 2, 3, 4, 6, 7, 8, 9}\n"
     ]
    }
   ],
   "source": [
    "a = {1,2,3,4}\n",
    "b = {4,1,6,7,8,9}\n",
    "c = a.union(b)\n",
    "print(c)"
   ]
  },
  {
   "cell_type": "markdown",
   "id": "5315e14c-8d7f-4bf6-a7d9-777d61c602f2",
   "metadata": {},
   "source": [
    "10. Find the intersection of two sets."
   ]
  },
  {
   "cell_type": "code",
   "execution_count": 44,
   "id": "b67d505d-670c-4e16-aa29-eebba2b2784d",
   "metadata": {},
   "outputs": [
    {
     "name": "stdout",
     "output_type": "stream",
     "text": [
      "{1, 4}\n"
     ]
    }
   ],
   "source": [
    "a = {1,2,3,4}\n",
    "b = {4,1,6,7,8,9}\n",
    "c = a.intersection(b)\n",
    "print(c)"
   ]
  },
  {
   "cell_type": "markdown",
   "id": "dd7d60ce-61db-4adf-896a-2373d4b8f66e",
   "metadata": {},
   "source": [
    "11. Find the difference between two sets."
   ]
  },
  {
   "cell_type": "code",
   "execution_count": 45,
   "id": "c58d1357-b375-4865-b695-6aaa7916e812",
   "metadata": {},
   "outputs": [
    {
     "name": "stdout",
     "output_type": "stream",
     "text": [
      "{2, 3}\n"
     ]
    }
   ],
   "source": [
    "a = {1,2,3,4}\n",
    "b = {4,1,6,7,8,9}\n",
    "c = a.difference(b)\n",
    "print(c)"
   ]
  },
  {
   "cell_type": "markdown",
   "id": "7359b142-8070-4002-a4a3-f284d4dc8c62",
   "metadata": {},
   "source": [
    "12. Check if a set is a subset of another set."
   ]
  },
  {
   "cell_type": "code",
   "execution_count": 50,
   "id": "5cb57d8d-4885-44ea-871b-acc26b2ff437",
   "metadata": {},
   "outputs": [
    {
     "data": {
      "text/plain": [
       "True"
      ]
     },
     "execution_count": 50,
     "metadata": {},
     "output_type": "execute_result"
    }
   ],
   "source": [
    "a = {1,2,3,4,5,6,7,8}\n",
    "b = {1,2,3}\n",
    "b.issubset(a)"
   ]
  },
  {
   "cell_type": "markdown",
   "id": "2a0b8398-1839-4d1e-a269-1a8493ecf703",
   "metadata": {},
   "source": [
    "13. Check if a set is a superset of another set."
   ]
  },
  {
   "cell_type": "code",
   "execution_count": 52,
   "id": "995766cc-1bb6-42fa-a883-1af589ad7408",
   "metadata": {},
   "outputs": [
    {
     "data": {
      "text/plain": [
       "True"
      ]
     },
     "execution_count": 52,
     "metadata": {},
     "output_type": "execute_result"
    }
   ],
   "source": [
    "a = {1,2,3,4,5,6,7,8}\n",
    "b = {1,2,3}\n",
    "a.issuperset(b)"
   ]
  },
  {
   "cell_type": "markdown",
   "id": "a0a9a6b2-871d-4624-a23c-7507b9cf7b40",
   "metadata": {},
   "source": [
    "14. Create a set from a list."
   ]
  },
  {
   "cell_type": "code",
   "execution_count": 54,
   "id": "604bcf57-aad3-4ed0-92ed-0e14eec22c94",
   "metadata": {},
   "outputs": [
    {
     "data": {
      "text/plain": [
       "{1, 2, 3, 4, 5, 'hello'}"
      ]
     },
     "execution_count": 54,
     "metadata": {},
     "output_type": "execute_result"
    }
   ],
   "source": [
    "lis = [1,2,3,4,5,\"hello\"]\n",
    "set(lis)"
   ]
  },
  {
   "cell_type": "markdown",
   "id": "f15faf93-99ad-4503-a1ee-acc3fd400989",
   "metadata": {},
   "source": [
    "15. Convert a set to a list."
   ]
  },
  {
   "cell_type": "code",
   "execution_count": 55,
   "id": "58861c82-fa9a-4178-baa1-a2d857e41764",
   "metadata": {},
   "outputs": [
    {
     "data": {
      "text/plain": [
       "[1, 2, 3, 4, 5, 'hello']"
      ]
     },
     "execution_count": 55,
     "metadata": {},
     "output_type": "execute_result"
    }
   ],
   "source": [
    "lis = {1,2,3,4,5,\"hello\"}\n",
    "list(lis)"
   ]
  },
  {
   "cell_type": "markdown",
   "id": "7f5c6341-9500-4944-afd1-2ea173346f07",
   "metadata": {},
   "source": [
    "16. Remove a random element from a set."
   ]
  },
  {
   "cell_type": "code",
   "execution_count": 69,
   "id": "a80a5ca3-4f62-4864-a8aa-5cb53ab80684",
   "metadata": {},
   "outputs": [
    {
     "data": {
      "text/plain": [
       "{1, 2, 4, 5, 'hello'}"
      ]
     },
     "execution_count": 69,
     "metadata": {},
     "output_type": "execute_result"
    }
   ],
   "source": [
    "set_1 = {1,2,3,4,5,\"hello\"}\n",
    "set_1.remove(3)\n",
    "set_1"
   ]
  },
  {
   "cell_type": "markdown",
   "id": "4e5369bb-d242-419d-bd93-b9858cc30f42",
   "metadata": {},
   "source": [
    "17. Pop an element from a set."
   ]
  },
  {
   "cell_type": "code",
   "execution_count": 71,
   "id": "bae3f856-b7cf-4126-b549-6abcec53f399",
   "metadata": {},
   "outputs": [
    {
     "data": {
      "text/plain": [
       "{3, 4, 5, 7}"
      ]
     },
     "execution_count": 71,
     "metadata": {},
     "output_type": "execute_result"
    }
   ],
   "source": [
    "set_1 = {2,3,5,4,7}\n",
    "set_1.pop()\n",
    "set_1"
   ]
  },
  {
   "cell_type": "markdown",
   "id": "1261df9b-f5e8-4b95-9df5-4da572313536",
   "metadata": {},
   "source": [
    "18. Check if two sets have no elements in common."
   ]
  },
  {
   "cell_type": "code",
   "execution_count": 73,
   "id": "5e39d2c0-2f26-47d0-a001-c6fac2cf08e7",
   "metadata": {},
   "outputs": [
    {
     "name": "stdout",
     "output_type": "stream",
     "text": [
      "no element in common\n"
     ]
    }
   ],
   "source": [
    "set_1 = {1,2,3,4,5}\n",
    "set_2 = {7,6,8,9}\n",
    "a = set_2.issubset(set_1)\n",
    "if a == False :\n",
    "    print(\"no element in common\")"
   ]
  },
  {
   "cell_type": "markdown",
   "id": "0fc7bb0e-6022-4c70-8aeb-2696b0e2caed",
   "metadata": {},
   "source": [
    "19. Find the symmetric difference between two sets."
   ]
  },
  {
   "cell_type": "code",
   "execution_count": 75,
   "id": "ab4bc2f6-5fc9-4f7b-8650-bf83dff186a8",
   "metadata": {},
   "outputs": [
    {
     "data": {
      "text/plain": [
       "{10, 20}"
      ]
     },
     "execution_count": 75,
     "metadata": {},
     "output_type": "execute_result"
    }
   ],
   "source": [
    "set_1 = {1,2,3,4,5,10}\n",
    "set_2 = {1,2,3,4,5,20}\n",
    "set_1.symmetric_difference(set_2)"
   ]
  },
  {
   "cell_type": "markdown",
   "id": "e4550d53-a376-42cc-bdcc-582c812d8987",
   "metadata": {},
   "source": [
    "20. Update a set with elements from another set."
   ]
  },
  {
   "cell_type": "code",
   "execution_count": 77,
   "id": "6299fb7e-6ed7-4113-a2e5-eff752ef4c83",
   "metadata": {},
   "outputs": [
    {
     "name": "stdout",
     "output_type": "stream",
     "text": [
      "{1, 2, 3, 4, 5, 10, 20}\n"
     ]
    }
   ],
   "source": [
    "set_1 = {1,2,3,4,5,10}\n",
    "set_2 = {1,2,3,4,5,20}\n",
    "set_1.update(set_2)\n",
    "print(set_1)"
   ]
  },
  {
   "cell_type": "markdown",
   "id": "fe304300-da4b-485c-818e-236e5c8a10ad",
   "metadata": {},
   "source": [
    "21. Create a set of the first 5 prime numbers."
   ]
  },
  {
   "cell_type": "code",
   "execution_count": 37,
   "id": "059c389c-75a8-4b69-8d45-052a72627ec4",
   "metadata": {},
   "outputs": [
    {
     "name": "stdout",
     "output_type": "stream",
     "text": [
      "{2, 3, 5, 37, 7, 41, 11, 43, 13, 47, 17, 19, 23, 29, 31}\n"
     ]
    }
   ],
   "source": [
    "def is_prime(num):\n",
    "    if num < 2:\n",
    "        return False\n",
    "    for i in range(2, int(num ** 0.5) + 1):\n",
    "        if num % i == 0:\n",
    "            return False\n",
    "    return True\n",
    "\n",
    "prime_numbers = set(num for num in range(2, 51) if is_prime(num))\n",
    "\n",
    "print(prime_numbers)"
   ]
  },
  {
   "cell_type": "markdown",
   "id": "c1371d78-bb20-4968-b641-d794efe12722",
   "metadata": {},
   "source": [
    "22. Check if two sets are identical."
   ]
  },
  {
   "cell_type": "code",
   "execution_count": 79,
   "id": "7a3a2f7d-7cef-4a93-908c-c66128eeb36a",
   "metadata": {},
   "outputs": [
    {
     "name": "stdout",
     "output_type": "stream",
     "text": [
      "identical\n"
     ]
    }
   ],
   "source": [
    "set_1 = {1,2,3,4,5}\n",
    "set_2 = {1,2,3,4,5}\n",
    "if set_1 == set_2 :\n",
    "    print(\"identical\")\n",
    "else:\n",
    "    print(\"not identical\")"
   ]
  },
  {
   "cell_type": "markdown",
   "id": "f58ceb25-e1d0-4ee2-b794-1e81a7ebcbed",
   "metadata": {},
   "source": [
    "23. Create a frozen set."
   ]
  },
  {
   "cell_type": "code",
   "execution_count": 81,
   "id": "66c02217-a58e-45d3-9fdd-6397ed20d2cf",
   "metadata": {},
   "outputs": [
    {
     "name": "stdout",
     "output_type": "stream",
     "text": [
      "frozenset({1, 2, 3, 4, 5})\n"
     ]
    }
   ],
   "source": [
    "set_1 = {1,2,3,4,5}\n",
    "frozen = frozenset(set_1)\n",
    "print(frozen)"
   ]
  },
  {
   "cell_type": "markdown",
   "id": "caeddab3-cbc4-49e9-80a3-8bd269c3678c",
   "metadata": {},
   "source": [
    "24. Check if a set is disjoint with another set."
   ]
  },
  {
   "cell_type": "code",
   "execution_count": 85,
   "id": "7b2b2c76-e350-4615-b8d5-31ab43cd7e4b",
   "metadata": {},
   "outputs": [
    {
     "data": {
      "text/plain": [
       "True"
      ]
     },
     "execution_count": 85,
     "metadata": {},
     "output_type": "execute_result"
    }
   ],
   "source": [
    "set_1 = {1,2,3,4,5}\n",
    "set_2 = {6,7,8,9}\n",
    "set_1.isdisjoint(set_2)"
   ]
  },
  {
   "cell_type": "markdown",
   "id": "474ae09f-2785-468b-baf7-35bf31c57054",
   "metadata": {},
   "source": [
    "25. Create a set of squares of numbers from 1 to 5."
   ]
  },
  {
   "cell_type": "code",
   "execution_count": 90,
   "id": "2b94506a-e0e8-4a5c-9de2-5d384764c231",
   "metadata": {},
   "outputs": [
    {
     "name": "stdout",
     "output_type": "stream",
     "text": [
      "{1, 4, 9, 16, 25}\n"
     ]
    }
   ],
   "source": [
    "n = 5\n",
    "squares = {i ** 2 for i in range(1,n+1) }\n",
    "print(squares)"
   ]
  },
  {
   "cell_type": "markdown",
   "id": "43153575-00ec-4100-b473-1a9b201e040e",
   "metadata": {},
   "source": [
    "26. Filter out all even numbers from a set."
   ]
  },
  {
   "cell_type": "code",
   "execution_count": 91,
   "id": "6ea78726-d052-4670-88ab-79586b51088e",
   "metadata": {},
   "outputs": [
    {
     "name": "stdout",
     "output_type": "stream",
     "text": [
      "{2, 4, 6, 8, 10}\n"
     ]
    }
   ],
   "source": [
    "n = {1,2,3,4,5,6,7,8,9,10}\n",
    "filter_even = {i for i in n if i % 2 == 0}\n",
    "print(filter_even)"
   ]
  },
  {
   "cell_type": "markdown",
   "id": "21cf5a12-081a-450e-8474-917f20205ddf",
   "metadata": {},
   "source": [
    "27. Multiply all elements in a set by 2."
   ]
  },
  {
   "cell_type": "code",
   "execution_count": 92,
   "id": "53388a42-86e9-4518-a2e2-4b5ced5d096b",
   "metadata": {},
   "outputs": [
    {
     "name": "stdout",
     "output_type": "stream",
     "text": [
      "{2, 4, 6, 8, 10, 12, 14, 16, 18, 20}\n"
     ]
    }
   ],
   "source": [
    "n = {1,2,3,4,5,6,7,8,9,10}\n",
    "multiply = {i * 2 for i in n}\n",
    "print(multiply)"
   ]
  },
  {
   "cell_type": "markdown",
   "id": "89f8f791-79f6-4f59-9ca3-0fb8c49579b1",
   "metadata": {},
   "source": [
    "28. Create a set of random numbers."
   ]
  },
  {
   "cell_type": "code",
   "execution_count": 100,
   "id": "37fcc4f2-ed54-4d71-ba24-ac9a824fb0d8",
   "metadata": {},
   "outputs": [
    {
     "data": {
      "text/plain": [
       "{1, 2, 3, 4, 5, 6}"
      ]
     },
     "execution_count": 100,
     "metadata": {},
     "output_type": "execute_result"
    }
   ],
   "source": [
    "import random\n",
    "a = {i for i in range(1,random.randint(1,10))}\n",
    "a"
   ]
  },
  {
   "cell_type": "markdown",
   "id": "dbe91371-2abc-4251-b553-cba2dd3a4858",
   "metadata": {},
   "source": [
    "29. Check if a set is empty."
   ]
  },
  {
   "cell_type": "code",
   "execution_count": 107,
   "id": "2885d5e9-c97e-430d-b107-d9aa1003cecf",
   "metadata": {},
   "outputs": [
    {
     "name": "stdout",
     "output_type": "stream",
     "text": [
      "empty\n"
     ]
    }
   ],
   "source": [
    "set_1 = {}\n",
    "if len(set_1) == 0:\n",
    "    print(\"empty\")\n",
    "else:\n",
    "    print(\"its not empty\")"
   ]
  },
  {
   "cell_type": "markdown",
   "id": "ee18220c-bf00-4a64-b508-99bcd77c1454",
   "metadata": {},
   "source": [
    "30. Create a nested set (hint: use frozenset)."
   ]
  },
  {
   "cell_type": "code",
   "execution_count": 111,
   "id": "5b9ba77f-53f3-49ca-b7e7-40c94b037616",
   "metadata": {},
   "outputs": [
    {
     "name": "stdout",
     "output_type": "stream",
     "text": [
      "{frozenset({5, 6, 7, 8, 9}), frozenset({1, 2, 3, 4})}\n"
     ]
    }
   ],
   "source": [
    "nested_set = {frozenset({1,2,3,4}),frozenset({5,6,7,8,9})}\n",
    "print(nested_set)"
   ]
  },
  {
   "cell_type": "markdown",
   "id": "97e68814-d25d-442a-bc49-919bea1f1bed",
   "metadata": {},
   "source": [
    "31. Remove an element from a set using the discard method."
   ]
  },
  {
   "cell_type": "code",
   "execution_count": 120,
   "id": "e2b34bce-807e-4898-9257-aa0786263e87",
   "metadata": {},
   "outputs": [
    {
     "data": {
      "text/plain": [
       "{2, 3, 4, 5, 6, 7, 8, 9, 10}"
      ]
     },
     "execution_count": 120,
     "metadata": {},
     "output_type": "execute_result"
    }
   ],
   "source": [
    "n = {1,2,3,4,5,6,7,8,9,10}\n",
    "n.discard(1)\n",
    "n"
   ]
  },
  {
   "cell_type": "markdown",
   "id": "2c2d48c1-2789-48f6-9961-2821f23584b0",
   "metadata": {},
   "source": [
    "32. Compare two sets."
   ]
  },
  {
   "cell_type": "code",
   "execution_count": 127,
   "id": "c78cab70-9ed8-4b23-b747-2ba6ba1e6031",
   "metadata": {},
   "outputs": [
    {
     "name": "stdout",
     "output_type": "stream",
     "text": [
      "{1, 4, 5}\n",
      "{1, 2, 3, 4, 5}\n",
      "{1, 4, 5}\n",
      "True\n",
      "True\n",
      "{2, 3}\n"
     ]
    }
   ],
   "source": [
    "set_1 = {1,2,3,4,5}\n",
    "set_2 = {2,3}\n",
    "a = set_1.symmetric_difference(set_2)\n",
    "b = set_1.union(set_2)\n",
    "c = set_1.difference(set_2)\n",
    "d = set_1.issuperset(set_2)\n",
    "f = set_2.issubset(set_1)\n",
    "g = set_1.intersection(set_2)\n",
    "print(f\"{a}\\n{b}\\n{c}\\n{d}\\n{f}\\n{g}\")"
   ]
  },
  {
   "cell_type": "markdown",
   "id": "bd4f2f95-a6cd-4906-8b0c-0b7a307c4fc7",
   "metadata": {},
   "source": [
    "33. Create a set from a string."
   ]
  },
  {
   "cell_type": "code",
   "execution_count": 130,
   "id": "5460768a-0100-485c-b6de-e037a408bba1",
   "metadata": {},
   "outputs": [
    {
     "data": {
      "text/plain": [
       "{'e', 'h', 'l', 'o'}"
      ]
     },
     "execution_count": 130,
     "metadata": {},
     "output_type": "execute_result"
    }
   ],
   "source": [
    "a = \"hello\"\n",
    "set(a)"
   ]
  },
  {
   "cell_type": "markdown",
   "id": "3bbce324-667e-4120-9481-94676a969131",
   "metadata": {},
   "source": [
    "34. Convert a set of strings to a set of integers."
   ]
  },
  {
   "cell_type": "code",
   "execution_count": 137,
   "id": "15a75bab-e667-4788-925e-0d7e0c58d0d4",
   "metadata": {},
   "outputs": [
    {
     "data": {
      "text/plain": [
       "{1, 2, 3, 4, 5, 6}"
      ]
     },
     "execution_count": 137,
     "metadata": {},
     "output_type": "execute_result"
    }
   ],
   "source": [
    "a = {\"1\",\"2\",\"3\",\"4\",\"5\",\"6\"}\n",
    "b = set(map(int,a))\n",
    "b"
   ]
  },
  {
   "cell_type": "markdown",
   "id": "cf09813b-94d3-42cf-855c-1a5867714a88",
   "metadata": {},
   "source": [
    "35. Convert a set of integers to a set of strings."
   ]
  },
  {
   "cell_type": "code",
   "execution_count": 139,
   "id": "9e12af0f-dd0b-47ad-87b3-15e5de180f48",
   "metadata": {},
   "outputs": [
    {
     "data": {
      "text/plain": [
       "{'1', '2', '3', '4', '5', '6', '7'}"
      ]
     },
     "execution_count": 139,
     "metadata": {},
     "output_type": "execute_result"
    }
   ],
   "source": [
    "a = {1,2,3,4,5,6,7}\n",
    "b = set(map(str,a))\n",
    "b"
   ]
  },
  {
   "cell_type": "markdown",
   "id": "19e65473-829c-4bca-a078-6ae8781d5423",
   "metadata": {},
   "source": [
    "36. Create a set from a tuple."
   ]
  },
  {
   "cell_type": "code",
   "execution_count": 140,
   "id": "fe93aa6c-5e98-4823-854c-3bb6d714b069",
   "metadata": {},
   "outputs": [
    {
     "data": {
      "text/plain": [
       "{1, 2, 3, 4, 5}"
      ]
     },
     "execution_count": 140,
     "metadata": {},
     "output_type": "execute_result"
    }
   ],
   "source": [
    "tup = (1,2,3,4,5)\n",
    "b = set(tup)\n",
    "b"
   ]
  },
  {
   "cell_type": "markdown",
   "id": "caa14ad2-9bbc-4faa-81fb-ad0db285ab56",
   "metadata": {},
   "source": [
    "37. Convert a set to a tuple."
   ]
  },
  {
   "cell_type": "code",
   "execution_count": 141,
   "id": "5b8ba225-5db9-4cac-a80c-f39758b6f592",
   "metadata": {},
   "outputs": [
    {
     "data": {
      "text/plain": [
       "(1, 2, 3, 4, 5)"
      ]
     },
     "execution_count": 141,
     "metadata": {},
     "output_type": "execute_result"
    }
   ],
   "source": [
    "set_1 = {1,2,3,4,5}\n",
    "b = tuple(set_1)\n",
    "b"
   ]
  },
  {
   "cell_type": "markdown",
   "id": "2c0fbdaa-6eaa-4c23-bb85-dbfe89e8285b",
   "metadata": {},
   "source": [
    "38. Find the maximum value in a set."
   ]
  },
  {
   "cell_type": "code",
   "execution_count": 142,
   "id": "29be300c-111c-41bb-b0da-3eeef3757cf6",
   "metadata": {},
   "outputs": [
    {
     "data": {
      "text/plain": [
       "5"
      ]
     },
     "execution_count": 142,
     "metadata": {},
     "output_type": "execute_result"
    }
   ],
   "source": [
    "set_1 = {1,2,3,4,5}\n",
    "b = max(set_1)\n",
    "b"
   ]
  },
  {
   "cell_type": "markdown",
   "id": "ac082884-c709-4470-9a12-de5751516521",
   "metadata": {},
   "source": [
    "39. Find the minimum value in a set."
   ]
  },
  {
   "cell_type": "code",
   "execution_count": 143,
   "id": "82d885de-ee02-4c37-b8d2-9890db946ff3",
   "metadata": {},
   "outputs": [
    {
     "data": {
      "text/plain": [
       "1"
      ]
     },
     "execution_count": 143,
     "metadata": {},
     "output_type": "execute_result"
    }
   ],
   "source": [
    "set_1 = {1,2,3,4,5}\n",
    "b = min(set_1)\n",
    "b"
   ]
  },
  {
   "cell_type": "markdown",
   "id": "62c06e4c-bc90-4605-8b8a-c6dc8cffff95",
   "metadata": {},
   "source": [
    "40. Create a set from user input."
   ]
  },
  {
   "cell_type": "code",
   "execution_count": 146,
   "id": "e6b48299-bb36-413f-90da-57bb185c116d",
   "metadata": {},
   "outputs": [
    {
     "name": "stdin",
     "output_type": "stream",
     "text": [
      " 124\n"
     ]
    },
    {
     "name": "stdout",
     "output_type": "stream",
     "text": [
      "{'124'} <class 'set'>\n"
     ]
    }
   ],
   "source": [
    "set_1 = {input()}\n",
    "print(set_1,type(set_1))"
   ]
  },
  {
   "cell_type": "markdown",
   "id": "578cf5c2-0bed-492e-9536-abd826c2a42d",
   "metadata": {},
   "source": [
    "41. Check if the intersection of two sets is empty."
   ]
  },
  {
   "cell_type": "code",
   "execution_count": 9,
   "id": "c82eb8b9-a7ed-4e40-8991-82f8f0adb1fe",
   "metadata": {},
   "outputs": [
    {
     "name": "stdout",
     "output_type": "stream",
     "text": [
      "the intersection is empty set()\n"
     ]
    }
   ],
   "source": [
    "set1 = {1,2,3,4,5}\n",
    "set2 = {6,7,8,9,0}\n",
    "if len(set1.intersection(set2)) == 0 :\n",
    "    print(f\"the intersection is empty {set1.intersection(set2)}\")\n",
    "else:\n",
    "    print(f\"intersection is not empty {set1.intersection(set2)}\")"
   ]
  },
  {
   "cell_type": "markdown",
   "id": "9253c59f-0209-4005-8608-f40046d508a5",
   "metadata": {},
   "source": [
    "42. Create a set of the first 5 Fibonacci numbers."
   ]
  },
  {
   "cell_type": "code",
   "execution_count": 39,
   "id": "24e35ef5-8a3d-4521-860b-1af6af70e08d",
   "metadata": {},
   "outputs": [
    {
     "name": "stdout",
     "output_type": "stream",
     "text": [
      "{0, 1, 2, 3}\n"
     ]
    }
   ],
   "source": [
    "def fibonacci(n):\n",
    "    a = 0\n",
    "    b = 1\n",
    "    c = {0,1}\n",
    "    for i in range(n-2):\n",
    "        c.add(a+b)\n",
    "        a,b = b, a+b\n",
    "    return c\n",
    "print(fibonacci(5))"
   ]
  },
  {
   "cell_type": "markdown",
   "id": "32762c21-a596-495c-9f70-33cf038ecde2",
   "metadata": {},
   "source": [
    "43. Remove duplicates from a list using sets."
   ]
  },
  {
   "cell_type": "code",
   "execution_count": 42,
   "id": "99d80ade-c61e-4da4-92c3-96ce233ec53f",
   "metadata": {},
   "outputs": [
    {
     "data": {
      "text/plain": [
       "[1, 2, 3, 4, 5, 6, 7, 8]"
      ]
     },
     "execution_count": 42,
     "metadata": {},
     "output_type": "execute_result"
    }
   ],
   "source": [
    "lis = [1,2,3,3,4,4,5,6,7,8,8,1]\n",
    "lis1 = list(set(lis))\n",
    "lis1"
   ]
  },
  {
   "cell_type": "markdown",
   "id": "437cf46a-5fe1-499f-bf1d-54a9b271fa18",
   "metadata": {},
   "source": [
    "44. Check if two sets have the same elements, regardless of their count."
   ]
  },
  {
   "cell_type": "code",
   "execution_count": 55,
   "id": "1c6f8a9d-43b8-4a72-9609-7772a13a8b81",
   "metadata": {},
   "outputs": [
    {
     "name": "stdout",
     "output_type": "stream",
     "text": [
      "True\n"
     ]
    }
   ],
   "source": [
    "set1 = {1,2,3,4,5,6,7,8,9,10}\n",
    "set2 = {1,2,3,4,5,6}\n",
    "if set1 == set2 or set2.issubset(set1) == True or set1.issuperset(set2) == True or set1.issubset(set2) == True or set2.issuperset(set1):\n",
    "    print(True)\n",
    "else:\n",
    "    print(False)"
   ]
  },
  {
   "cell_type": "markdown",
   "id": "0f4f3bde-1f40-43ec-b904-94f00fa6144c",
   "metadata": {},
   "source": [
    "45. Create a set of the first `n` powers of 2."
   ]
  },
  {
   "cell_type": "code",
   "execution_count": 66,
   "id": "ecc4c9c5-92da-4653-bc57-9b3bda1cbc0c",
   "metadata": {},
   "outputs": [
    {
     "name": "stdout",
     "output_type": "stream",
     "text": [
      "{1, 4, 9, 16, 25}\n"
     ]
    }
   ],
   "source": [
    "def set_power(n):\n",
    "    power = set()\n",
    "    for i in range(1,n+1) :\n",
    "        power.add(i**2)\n",
    "    return power\n",
    "print(set_power(5))"
   ]
  },
  {
   "cell_type": "markdown",
   "id": "32b0a25c-1746-4824-9847-5a0d2c199252",
   "metadata": {},
   "source": [
    "46. Find the common elements between a set and a list."
   ]
  },
  {
   "cell_type": "code",
   "execution_count": 67,
   "id": "0e6cde9b-5aed-46c9-9dbb-154e44a557c8",
   "metadata": {},
   "outputs": [
    {
     "data": {
      "text/plain": [
       "{1, 2, 3, 4}"
      ]
     },
     "execution_count": 67,
     "metadata": {},
     "output_type": "execute_result"
    }
   ],
   "source": [
    "set1 = {1,2,3,4,5,7,8,9}\n",
    "lis = [1,2,3,4]\n",
    "set1.intersection(lis)"
   ]
  },
  {
   "cell_type": "markdown",
   "id": "9d46791f-4ab7-42e6-92fc-74f6f29d8960",
   "metadata": {},
   "source": [
    "47. Create a set of the first `n` triangular numbers."
   ]
  },
  {
   "cell_type": "code",
   "execution_count": 76,
   "id": "0dcd4901-73d3-4b1d-af01-9c28305799f9",
   "metadata": {},
   "outputs": [
    {
     "name": "stdout",
     "output_type": "stream",
     "text": [
      "{1, 3, 36, 6, 10, 45, 15, 21, 55, 28}\n"
     ]
    }
   ],
   "source": [
    "def triangular(n):\n",
    "    tri_num = set()\n",
    "    a = 0\n",
    "    for i in range(1,n+1):\n",
    "        tri_num.add(a + i)\n",
    "        a = a + i \n",
    "    return tri_num\n",
    "print(triangular(10))"
   ]
  },
  {
   "cell_type": "markdown",
   "id": "a5e8c374-e809-4761-8544-3aee8e5077db",
   "metadata": {},
   "source": [
    "48. Check if a set contains another set as a subset."
   ]
  },
  {
   "cell_type": "code",
   "execution_count": 3,
   "id": "01b8ff59-b4ce-498f-9f1a-0f57404d908f",
   "metadata": {},
   "outputs": [
    {
     "data": {
      "text/plain": [
       "True"
      ]
     },
     "execution_count": 3,
     "metadata": {},
     "output_type": "execute_result"
    }
   ],
   "source": [
    "set1 = {1,2,3,4,5,6,7,8,9,10}\n",
    "set2 = {1,2,3,4,5}\n",
    "set2.issubset(set1)"
   ]
  },
  {
   "cell_type": "markdown",
   "id": "af24f9ad-83fa-4f64-bbc5-33b7eeb64574",
   "metadata": {},
   "source": [
    "49. Create a set of alternating 1s and 0s of length `n`."
   ]
  },
  {
   "cell_type": "code",
   "execution_count": 11,
   "id": "467421f6-d40f-4298-a688-45e51fb40b1f",
   "metadata": {},
   "outputs": [
    {
     "name": "stdout",
     "output_type": "stream",
     "text": [
      "{0, 1}\n"
     ]
    }
   ],
   "source": [
    "import random\n",
    "def alternate(n):\n",
    "    alt = set()\n",
    "    for i in range(n):\n",
    "        alt.add(random.randint(0,1))\n",
    "    return alt\n",
    "print(alternate(10))"
   ]
  },
  {
   "cell_type": "markdown",
   "id": "e0d95234-5ad2-4a99-a269-153872d90f76",
   "metadata": {},
   "source": [
    "50. Merge multiple sets into one."
   ]
  },
  {
   "cell_type": "code",
   "execution_count": 19,
   "id": "f43cb51e-6b1e-4c4f-b9e5-97a2a4c26451",
   "metadata": {},
   "outputs": [
    {
     "name": "stdout",
     "output_type": "stream",
     "text": [
      "{1, 2, 3, 4, 5, 6, 7, 8, 9}\n"
     ]
    }
   ],
   "source": [
    "a = {1,2,3}\n",
    "b = {4,5,6}\n",
    "c = {7,8,9}\n",
    "a.update(b,c)\n",
    "print(a)"
   ]
  }
 ],
 "metadata": {
  "kernelspec": {
   "display_name": "Python 3 (ipykernel)",
   "language": "python",
   "name": "python3"
  },
  "language_info": {
   "codemirror_mode": {
    "name": "ipython",
    "version": 3
   },
   "file_extension": ".py",
   "mimetype": "text/x-python",
   "name": "python",
   "nbconvert_exporter": "python",
   "pygments_lexer": "ipython3",
   "version": "3.10.8"
  }
 },
 "nbformat": 4,
 "nbformat_minor": 5
}
